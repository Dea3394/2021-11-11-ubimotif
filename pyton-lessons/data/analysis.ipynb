{
 "cells": [
  {
   "cell_type": "markdown",
   "id": "5a73303e-cc63-46d1-b5f2-e81f67adc958",
   "metadata": {
    "tags": []
   },
   "source": [
    "# Analysis"
   ]
  },
  {
   "cell_type": "markdown",
   "id": "a97036e4-c6d6-40f7-a59f-693b8ca83434",
   "metadata": {},
   "source": [
    "This is my analysis"
   ]
  },
  {
   "cell_type": "code",
   "execution_count": 2,
   "id": "5a5ac18e-2ceb-469d-bd57-d244a6e21103",
   "metadata": {},
   "outputs": [
    {
     "data": {
      "text/plain": [
       "8"
      ]
     },
     "execution_count": 2,
     "metadata": {},
     "output_type": "execute_result"
    }
   ],
   "source": [
    "3+5"
   ]
  },
  {
   "cell_type": "code",
   "execution_count": 6,
   "id": "4d42e9d4-276a-41f7-be02-ebfdd27089dc",
   "metadata": {},
   "outputs": [],
   "source": [
    "weight_kg = 60"
   ]
  },
  {
   "cell_type": "code",
   "execution_count": 7,
   "id": "b8e055a4-73f4-4022-860d-5b1af3f16a6d",
   "metadata": {},
   "outputs": [
    {
     "name": "stdout",
     "output_type": "stream",
     "text": [
      "60\n"
     ]
    }
   ],
   "source": [
    "print(weight_kg)"
   ]
  },
  {
   "cell_type": "code",
   "execution_count": 11,
   "id": "fd1190ac-d3de-4d02-a87a-830082ed076d",
   "metadata": {},
   "outputs": [],
   "source": [
    "weight_kg_2 = 60.0"
   ]
  },
  {
   "cell_type": "raw",
   "id": "85403f9e-0f1c-4a56-9a74-5b27291e830c",
   "metadata": {},
   "source": [
    "print (weight_kg_2)"
   ]
  },
  {
   "cell_type": "code",
   "execution_count": 12,
   "id": "8d4367b5-70c1-4833-8e67-38020944368f",
   "metadata": {},
   "outputs": [
    {
     "data": {
      "text/plain": [
       "120.0"
      ]
     },
     "execution_count": 12,
     "metadata": {},
     "output_type": "execute_result"
    }
   ],
   "source": [
    "weight_kg_2*2 "
   ]
  },
  {
   "cell_type": "code",
   "execution_count": 16,
   "id": "99293a5e-bf0c-47ab-8b82-8763980ce797",
   "metadata": {},
   "outputs": [],
   "source": [
    "weight_txt = \"My weight is:\""
   ]
  },
  {
   "cell_type": "code",
   "execution_count": 17,
   "id": "a2ae2b90-9ac3-4337-a386-348ab77c3b40",
   "metadata": {},
   "outputs": [
    {
     "name": "stdout",
     "output_type": "stream",
     "text": [
      "My weight is:\n"
     ]
    }
   ],
   "source": [
    "print(weight_txt)"
   ]
  },
  {
   "cell_type": "code",
   "execution_count": 18,
   "id": "a4169283-664f-480c-8ab2-ab083fefa3ee",
   "metadata": {},
   "outputs": [
    {
     "ename": "NameError",
     "evalue": "name 'weigh_txt' is not defined",
     "output_type": "error",
     "traceback": [
      "\u001b[1;31m---------------------------------------------------------------------------\u001b[0m",
      "\u001b[1;31mNameError\u001b[0m                                 Traceback (most recent call last)",
      "\u001b[1;32m<ipython-input-18-7f2c12d6c17d>\u001b[0m in \u001b[0;36m<module>\u001b[1;34m\u001b[0m\n\u001b[1;32m----> 1\u001b[1;33m \u001b[0mprint\u001b[0m\u001b[1;33m(\u001b[0m\u001b[0mweigh_txt\u001b[0m\u001b[1;33m,\u001b[0m \u001b[0mweigh_kg\u001b[0m\u001b[1;33m)\u001b[0m\u001b[1;33m\u001b[0m\u001b[1;33m\u001b[0m\u001b[0m\n\u001b[0m",
      "\u001b[1;31mNameError\u001b[0m: name 'weigh_txt' is not defined"
     ]
    }
   ],
   "source": [
    "print(weigh_txt, weigh_kg) "
   ]
  },
  {
   "cell_type": "code",
   "execution_count": 19,
   "id": "1094bc3f-e228-47b2-98cf-3f4e54ac03cb",
   "metadata": {},
   "outputs": [
    {
     "ename": "TypeError",
     "evalue": "can only concatenate str (not \"int\") to str",
     "output_type": "error",
     "traceback": [
      "\u001b[1;31m---------------------------------------------------------------------------\u001b[0m",
      "\u001b[1;31mTypeError\u001b[0m                                 Traceback (most recent call last)",
      "\u001b[1;32m<ipython-input-19-fdd7e473cffe>\u001b[0m in \u001b[0;36m<module>\u001b[1;34m\u001b[0m\n\u001b[1;32m----> 1\u001b[1;33m \u001b[0mweight_txt\u001b[0m \u001b[1;33m+\u001b[0m \u001b[0mweight_kg\u001b[0m\u001b[1;33m\u001b[0m\u001b[1;33m\u001b[0m\u001b[0m\n\u001b[0m",
      "\u001b[1;31mTypeError\u001b[0m: can only concatenate str (not \"int\") to str"
     ]
    }
   ],
   "source": [
    "weight_txt + weight_kg"
   ]
  },
  {
   "cell_type": "code",
   "execution_count": 21,
   "id": "05daacf7-ca4f-4cca-b45b-95385779f057",
   "metadata": {},
   "outputs": [
    {
     "ename": "TypeError",
     "evalue": "unsupported operand type(s) for +: 'int' and 'str'",
     "output_type": "error",
     "traceback": [
      "\u001b[1;31m---------------------------------------------------------------------------\u001b[0m",
      "\u001b[1;31mTypeError\u001b[0m                                 Traceback (most recent call last)",
      "\u001b[1;32m<ipython-input-21-625300c5aecf>\u001b[0m in \u001b[0;36m<module>\u001b[1;34m\u001b[0m\n\u001b[1;32m----> 1\u001b[1;33m \u001b[0mweight_kg\u001b[0m\u001b[1;33m+\u001b[0m\u001b[0mweight_txt\u001b[0m\u001b[1;33m\u001b[0m\u001b[1;33m\u001b[0m\u001b[0m\n\u001b[0m",
      "\u001b[1;31mTypeError\u001b[0m: unsupported operand type(s) for +: 'int' and 'str'"
     ]
    }
   ],
   "source": [
    "weight_kg+weight_txt"
   ]
  },
  {
   "cell_type": "code",
   "execution_count": 23,
   "id": "a88602fd-2c4d-4695-a8b2-b021f06b5040",
   "metadata": {},
   "outputs": [
    {
     "data": {
      "text/plain": [
       "'My weight is:this is my other string'"
      ]
     },
     "execution_count": 23,
     "metadata": {},
     "output_type": "execute_result"
    }
   ],
   "source": [
    "banana = \"this is my other string\"\n",
    "weight_txt+banana"
   ]
  },
  {
   "cell_type": "code",
   "execution_count": 24,
   "id": "5231faad-404d-4596-9473-cfc0a218e5c9",
   "metadata": {},
   "outputs": [
    {
     "data": {
      "text/plain": [
       "120.0"
      ]
     },
     "execution_count": 24,
     "metadata": {},
     "output_type": "execute_result"
    }
   ],
   "source": [
    "weight_kg+weight_kg_2"
   ]
  },
  {
   "cell_type": "code",
   "execution_count": 25,
   "id": "a71b08a9-1572-4af2-ae09-66b34d258c52",
   "metadata": {},
   "outputs": [
    {
     "name": "stdout",
     "output_type": "stream",
     "text": [
      "h\n"
     ]
    }
   ],
   "source": [
    "message = \"hello\"\n",
    "print(message[0])"
   ]
  },
  {
   "cell_type": "code",
   "execution_count": 26,
   "id": "40a63afb-80ca-48b0-9279-476f2bee67a4",
   "metadata": {},
   "outputs": [
    {
     "name": "stdout",
     "output_type": "stream",
     "text": [
      "hel\n"
     ]
    }
   ],
   "source": [
    "print(message[0:3])"
   ]
  },
  {
   "cell_type": "code",
   "execution_count": 27,
   "id": "ca0cfd4a-faa3-4898-b0f5-cc22e83eac10",
   "metadata": {},
   "outputs": [
    {
     "name": "stdout",
     "output_type": "stream",
     "text": [
      "hell\n"
     ]
    }
   ],
   "source": [
    "print(message[0:4])"
   ]
  },
  {
   "cell_type": "code",
   "execution_count": 28,
   "id": "2174a4f0-b60a-46e2-aa3a-f619774d7cf8",
   "metadata": {},
   "outputs": [
    {
     "name": "stdout",
     "output_type": "stream",
     "text": [
      "120\n"
     ]
    }
   ],
   "source": [
    "weight_dubles =weight_kg * 2\n",
    "print(weight_dubles)"
   ]
  },
  {
   "cell_type": "code",
   "execution_count": 29,
   "id": "fedd4b88-9b0e-4f16-8546-0f3c041234f8",
   "metadata": {},
   "outputs": [
    {
     "data": {
      "text/plain": [
       "int"
      ]
     },
     "execution_count": 29,
     "metadata": {},
     "output_type": "execute_result"
    }
   ],
   "source": [
    "type(weight_kg)"
   ]
  },
  {
   "cell_type": "code",
   "execution_count": 30,
   "id": "7e3072d1-360a-437c-89dc-6447de218d55",
   "metadata": {},
   "outputs": [
    {
     "data": {
      "text/plain": [
       "float"
      ]
     },
     "execution_count": 30,
     "metadata": {},
     "output_type": "execute_result"
    }
   ],
   "source": [
    "type(weight_kg_2)"
   ]
  },
  {
   "cell_type": "code",
   "execution_count": 34,
   "id": "9e7efd73-5176-4000-91bd-2d6f6c3b92f3",
   "metadata": {},
   "outputs": [
    {
     "name": "stdout",
     "output_type": "stream",
     "text": [
      "2 5\n"
     ]
    }
   ],
   "source": [
    "first = 1\n",
    "second= 5 * first\n",
    "first = 2\n",
    "print(first, second)"
   ]
  },
  {
   "cell_type": "code",
   "execution_count": 36,
   "id": "484faa24-e36a-429d-85b4-2ead61bc9cb0",
   "metadata": {},
   "outputs": [
    {
     "data": {
      "text/plain": [
       "'bannana'"
      ]
     },
     "execution_count": 36,
     "metadata": {},
     "output_type": "execute_result"
    }
   ],
   "source": [
    "min (\"hello\", \"bannana\")"
   ]
  },
  {
   "cell_type": "code",
   "execution_count": 37,
   "id": "3c46841a-1830-4274-a993-b86c6f26df2c",
   "metadata": {},
   "outputs": [
    {
     "data": {
      "text/plain": [
       "4"
      ]
     },
     "execution_count": 37,
     "metadata": {},
     "output_type": "execute_result"
    }
   ],
   "source": [
    "round(3.713)"
   ]
  },
  {
   "cell_type": "code",
   "execution_count": 38,
   "id": "f8be67e9-fdfa-4198-9d58-978debb491c1",
   "metadata": {},
   "outputs": [
    {
     "data": {
      "text/plain": [
       "3.91"
      ]
     },
     "execution_count": 38,
     "metadata": {},
     "output_type": "execute_result"
    }
   ],
   "source": [
    "round(3.913, 2)"
   ]
  },
  {
   "cell_type": "code",
   "execution_count": 39,
   "id": "7c8f7d9c-c7f7-4485-8426-88f46c9d2d84",
   "metadata": {
    "tags": []
   },
   "outputs": [
    {
     "data": {
      "text/plain": [
       "'a'"
      ]
     },
     "execution_count": 39,
     "metadata": {},
     "output_type": "execute_result"
    }
   ],
   "source": [
    "min(min(\"banana\", \"hello\"))"
   ]
  },
  {
   "cell_type": "code",
   "execution_count": 41,
   "id": "5348919f-0ea0-46d3-b219-0744c51fdd04",
   "metadata": {},
   "outputs": [
    {
     "name": "stdout",
     "output_type": "stream",
     "text": [
      "example\n"
     ]
    }
   ],
   "source": [
    "results = print (\"example\")"
   ]
  },
  {
   "cell_type": "code",
   "execution_count": 44,
   "id": "d9ac857c-24ad-4b6e-b1a2-f656841c1a07",
   "metadata": {},
   "outputs": [
    {
     "name": "stdout",
     "output_type": "stream",
     "text": [
      "2\n"
     ]
    }
   ],
   "source": [
    "result_2 = min(2,3,6)\n",
    "print(result_2)"
   ]
  },
  {
   "cell_type": "code",
   "execution_count": 45,
   "id": "1c40ad61-39d2-45d2-87d8-0dcb2654b43e",
   "metadata": {},
   "outputs": [
    {
     "ename": "TypeError",
     "evalue": "min expected 1 argument, got 0",
     "output_type": "error",
     "traceback": [
      "\u001b[1;31m---------------------------------------------------------------------------\u001b[0m",
      "\u001b[1;31mTypeError\u001b[0m                                 Traceback (most recent call last)",
      "\u001b[1;32m<ipython-input-45-4a091e57dba5>\u001b[0m in \u001b[0;36m<module>\u001b[1;34m\u001b[0m\n\u001b[1;32m----> 1\u001b[1;33m \u001b[0mresult_3\u001b[0m\u001b[1;33m=\u001b[0m \u001b[0mmin\u001b[0m\u001b[1;33m(\u001b[0m\u001b[1;33m)\u001b[0m\u001b[1;33m\u001b[0m\u001b[1;33m\u001b[0m\u001b[0m\n\u001b[0m\u001b[0;32m      2\u001b[0m \u001b[0mprint\u001b[0m\u001b[1;33m(\u001b[0m\u001b[0mresult_3\u001b[0m\u001b[1;33m)\u001b[0m\u001b[1;33m\u001b[0m\u001b[1;33m\u001b[0m\u001b[0m\n",
      "\u001b[1;31mTypeError\u001b[0m: min expected 1 argument, got 0"
     ]
    }
   ],
   "source": [
    "result_3= min()\n",
    "print(result_3)"
   ]
  },
  {
   "cell_type": "code",
   "execution_count": 46,
   "id": "bd8d33ba-2349-4147-9d0e-d528666f4dff",
   "metadata": {},
   "outputs": [
    {
     "name": "stderr",
     "output_type": "stream",
     "text": [
      "<>:1: SyntaxWarning: 'int' object is not callable; perhaps you missed a comma?\n",
      "<>:1: SyntaxWarning: 'int' object is not callable; perhaps you missed a comma?\n",
      "<ipython-input-46-7b3cd285ea0c>:1: SyntaxWarning: 'int' object is not callable; perhaps you missed a comma?\n",
      "  print (len-1(\"name\"))\n"
     ]
    },
    {
     "ename": "TypeError",
     "evalue": "'int' object is not callable",
     "output_type": "error",
     "traceback": [
      "\u001b[1;31m---------------------------------------------------------------------------\u001b[0m",
      "\u001b[1;31mTypeError\u001b[0m                                 Traceback (most recent call last)",
      "\u001b[1;32m<ipython-input-46-7b3cd285ea0c>\u001b[0m in \u001b[0;36m<module>\u001b[1;34m\u001b[0m\n\u001b[1;32m----> 1\u001b[1;33m \u001b[0mprint\u001b[0m \u001b[1;33m(\u001b[0m\u001b[0mlen\u001b[0m\u001b[1;33m-\u001b[0m\u001b[1;36m1\u001b[0m\u001b[1;33m(\u001b[0m\u001b[1;34m\"name\"\u001b[0m\u001b[1;33m)\u001b[0m\u001b[1;33m)\u001b[0m\u001b[1;33m\u001b[0m\u001b[1;33m\u001b[0m\u001b[0m\n\u001b[0m",
      "\u001b[1;31mTypeError\u001b[0m: 'int' object is not callable"
     ]
    }
   ],
   "source": [
    "bprint (len-1(\"name\"))"
   ]
  },
  {
   "cell_type": "code",
   "execution_count": 55,
   "id": "6041b10f-c4e3-4e40-a571-195509712f59",
   "metadata": {},
   "outputs": [],
   "source": [
    "lastidx = len(\"name\")-1"
   ]
  },
  {
   "cell_type": "code",
   "execution_count": 56,
   "id": "690ace4f-7121-4d61-9fa6-6fa676e7e6e9",
   "metadata": {},
   "outputs": [
    {
     "data": {
      "text/plain": [
       "'e'"
      ]
     },
     "execution_count": 56,
     "metadata": {},
     "output_type": "execute_result"
    }
   ],
   "source": [
    "ll = \"name\"\n",
    "ll[lastidx]"
   ]
  },
  {
   "cell_type": "code",
   "execution_count": 57,
   "id": "0eb9511e-b116-48fb-98fb-5fb77edf3a31",
   "metadata": {},
   "outputs": [
    {
     "name": "stdout",
     "output_type": "stream",
     "text": [
      "e\n"
     ]
    }
   ],
   "source": [
    "print(ll[-1])"
   ]
  },
  {
   "cell_type": "code",
   "execution_count": 59,
   "id": "cf8a454c-7ce5-4f03-a3c3-670a21381077",
   "metadata": {},
   "outputs": [
    {
     "name": "stdout",
     "output_type": "stream",
     "text": [
      "e\n"
     ]
    }
   ],
   "source": [
    "name = \"name\"\n",
    "print(name[len(name)-1])"
   ]
  },
  {
   "cell_type": "code",
   "execution_count": 65,
   "id": "1a2e73fe-909c-464d-8952-a2cfccec0fa6",
   "metadata": {},
   "outputs": [],
   "source": [
    "import math"
   ]
  },
  {
   "cell_type": "code",
   "execution_count": 67,
   "id": "39e36f2d-b0b8-4f5b-af60-219546523a39",
   "metadata": {},
   "outputs": [
    {
     "name": "stdout",
     "output_type": "stream",
     "text": [
      "3.141592653589793\n"
     ]
    }
   ],
   "source": [
    "print(math.pi)"
   ]
  },
  {
   "cell_type": "code",
   "execution_count": 68,
   "id": "bfa4ab4e-b6e5-45a5-b6eb-d1415fe4c947",
   "metadata": {},
   "outputs": [],
   "source": [
    "from math import sin"
   ]
  },
  {
   "cell_type": "code",
   "execution_count": 69,
   "id": "8f6076c9-f14d-451f-9258-d71b5ced3047",
   "metadata": {},
   "outputs": [
    {
     "name": "stdout",
     "output_type": "stream",
     "text": [
      "Help on built-in module math:\n",
      "\n",
      "NAME\n",
      "    math\n",
      "\n",
      "DESCRIPTION\n",
      "    This module provides access to the mathematical functions\n",
      "    defined by the C standard.\n",
      "\n",
      "FUNCTIONS\n",
      "    acos(x, /)\n",
      "        Return the arc cosine (measured in radians) of x.\n",
      "    \n",
      "    acosh(x, /)\n",
      "        Return the inverse hyperbolic cosine of x.\n",
      "    \n",
      "    asin(x, /)\n",
      "        Return the arc sine (measured in radians) of x.\n",
      "    \n",
      "    asinh(x, /)\n",
      "        Return the inverse hyperbolic sine of x.\n",
      "    \n",
      "    atan(x, /)\n",
      "        Return the arc tangent (measured in radians) of x.\n",
      "    \n",
      "    atan2(y, x, /)\n",
      "        Return the arc tangent (measured in radians) of y/x.\n",
      "        \n",
      "        Unlike atan(y/x), the signs of both x and y are considered.\n",
      "    \n",
      "    atanh(x, /)\n",
      "        Return the inverse hyperbolic tangent of x.\n",
      "    \n",
      "    ceil(x, /)\n",
      "        Return the ceiling of x as an Integral.\n",
      "        \n",
      "        This is the smallest integer >= x.\n",
      "    \n",
      "    comb(n, k, /)\n",
      "        Number of ways to choose k items from n items without repetition and without order.\n",
      "        \n",
      "        Evaluates to n! / (k! * (n - k)!) when k <= n and evaluates\n",
      "        to zero when k > n.\n",
      "        \n",
      "        Also called the binomial coefficient because it is equivalent\n",
      "        to the coefficient of k-th term in polynomial expansion of the\n",
      "        expression (1 + x)**n.\n",
      "        \n",
      "        Raises TypeError if either of the arguments are not integers.\n",
      "        Raises ValueError if either of the arguments are negative.\n",
      "    \n",
      "    copysign(x, y, /)\n",
      "        Return a float with the magnitude (absolute value) of x but the sign of y.\n",
      "        \n",
      "        On platforms that support signed zeros, copysign(1.0, -0.0)\n",
      "        returns -1.0.\n",
      "    \n",
      "    cos(x, /)\n",
      "        Return the cosine of x (measured in radians).\n",
      "    \n",
      "    cosh(x, /)\n",
      "        Return the hyperbolic cosine of x.\n",
      "    \n",
      "    degrees(x, /)\n",
      "        Convert angle x from radians to degrees.\n",
      "    \n",
      "    dist(p, q, /)\n",
      "        Return the Euclidean distance between two points p and q.\n",
      "        \n",
      "        The points should be specified as sequences (or iterables) of\n",
      "        coordinates.  Both inputs must have the same dimension.\n",
      "        \n",
      "        Roughly equivalent to:\n",
      "            sqrt(sum((px - qx) ** 2.0 for px, qx in zip(p, q)))\n",
      "    \n",
      "    erf(x, /)\n",
      "        Error function at x.\n",
      "    \n",
      "    erfc(x, /)\n",
      "        Complementary error function at x.\n",
      "    \n",
      "    exp(x, /)\n",
      "        Return e raised to the power of x.\n",
      "    \n",
      "    expm1(x, /)\n",
      "        Return exp(x)-1.\n",
      "        \n",
      "        This function avoids the loss of precision involved in the direct evaluation of exp(x)-1 for small x.\n",
      "    \n",
      "    fabs(x, /)\n",
      "        Return the absolute value of the float x.\n",
      "    \n",
      "    factorial(x, /)\n",
      "        Find x!.\n",
      "        \n",
      "        Raise a ValueError if x is negative or non-integral.\n",
      "    \n",
      "    floor(x, /)\n",
      "        Return the floor of x as an Integral.\n",
      "        \n",
      "        This is the largest integer <= x.\n",
      "    \n",
      "    fmod(x, y, /)\n",
      "        Return fmod(x, y), according to platform C.\n",
      "        \n",
      "        x % y may differ.\n",
      "    \n",
      "    frexp(x, /)\n",
      "        Return the mantissa and exponent of x, as pair (m, e).\n",
      "        \n",
      "        m is a float and e is an int, such that x = m * 2.**e.\n",
      "        If x is 0, m and e are both 0.  Else 0.5 <= abs(m) < 1.0.\n",
      "    \n",
      "    fsum(seq, /)\n",
      "        Return an accurate floating point sum of values in the iterable seq.\n",
      "        \n",
      "        Assumes IEEE-754 floating point arithmetic.\n",
      "    \n",
      "    gamma(x, /)\n",
      "        Gamma function at x.\n",
      "    \n",
      "    gcd(x, y, /)\n",
      "        greatest common divisor of x and y\n",
      "    \n",
      "    hypot(...)\n",
      "        hypot(*coordinates) -> value\n",
      "        \n",
      "        Multidimensional Euclidean distance from the origin to a point.\n",
      "        \n",
      "        Roughly equivalent to:\n",
      "            sqrt(sum(x**2 for x in coordinates))\n",
      "        \n",
      "        For a two dimensional point (x, y), gives the hypotenuse\n",
      "        using the Pythagorean theorem:  sqrt(x*x + y*y).\n",
      "        \n",
      "        For example, the hypotenuse of a 3/4/5 right triangle is:\n",
      "        \n",
      "            >>> hypot(3.0, 4.0)\n",
      "            5.0\n",
      "    \n",
      "    isclose(a, b, *, rel_tol=1e-09, abs_tol=0.0)\n",
      "        Determine whether two floating point numbers are close in value.\n",
      "        \n",
      "          rel_tol\n",
      "            maximum difference for being considered \"close\", relative to the\n",
      "            magnitude of the input values\n",
      "          abs_tol\n",
      "            maximum difference for being considered \"close\", regardless of the\n",
      "            magnitude of the input values\n",
      "        \n",
      "        Return True if a is close in value to b, and False otherwise.\n",
      "        \n",
      "        For the values to be considered close, the difference between them\n",
      "        must be smaller than at least one of the tolerances.\n",
      "        \n",
      "        -inf, inf and NaN behave similarly to the IEEE 754 Standard.  That\n",
      "        is, NaN is not close to anything, even itself.  inf and -inf are\n",
      "        only close to themselves.\n",
      "    \n",
      "    isfinite(x, /)\n",
      "        Return True if x is neither an infinity nor a NaN, and False otherwise.\n",
      "    \n",
      "    isinf(x, /)\n",
      "        Return True if x is a positive or negative infinity, and False otherwise.\n",
      "    \n",
      "    isnan(x, /)\n",
      "        Return True if x is a NaN (not a number), and False otherwise.\n",
      "    \n",
      "    isqrt(n, /)\n",
      "        Return the integer part of the square root of the input.\n",
      "    \n",
      "    ldexp(x, i, /)\n",
      "        Return x * (2**i).\n",
      "        \n",
      "        This is essentially the inverse of frexp().\n",
      "    \n",
      "    lgamma(x, /)\n",
      "        Natural logarithm of absolute value of Gamma function at x.\n",
      "    \n",
      "    log(...)\n",
      "        log(x, [base=math.e])\n",
      "        Return the logarithm of x to the given base.\n",
      "        \n",
      "        If the base not specified, returns the natural logarithm (base e) of x.\n",
      "    \n",
      "    log10(x, /)\n",
      "        Return the base 10 logarithm of x.\n",
      "    \n",
      "    log1p(x, /)\n",
      "        Return the natural logarithm of 1+x (base e).\n",
      "        \n",
      "        The result is computed in a way which is accurate for x near zero.\n",
      "    \n",
      "    log2(x, /)\n",
      "        Return the base 2 logarithm of x.\n",
      "    \n",
      "    modf(x, /)\n",
      "        Return the fractional and integer parts of x.\n",
      "        \n",
      "        Both results carry the sign of x and are floats.\n",
      "    \n",
      "    perm(n, k=None, /)\n",
      "        Number of ways to choose k items from n items without repetition and with order.\n",
      "        \n",
      "        Evaluates to n! / (n - k)! when k <= n and evaluates\n",
      "        to zero when k > n.\n",
      "        \n",
      "        If k is not specified or is None, then k defaults to n\n",
      "        and the function returns n!.\n",
      "        \n",
      "        Raises TypeError if either of the arguments are not integers.\n",
      "        Raises ValueError if either of the arguments are negative.\n",
      "    \n",
      "    pow(x, y, /)\n",
      "        Return x**y (x to the power of y).\n",
      "    \n",
      "    prod(iterable, /, *, start=1)\n",
      "        Calculate the product of all the elements in the input iterable.\n",
      "        \n",
      "        The default start value for the product is 1.\n",
      "        \n",
      "        When the iterable is empty, return the start value.  This function is\n",
      "        intended specifically for use with numeric values and may reject\n",
      "        non-numeric types.\n",
      "    \n",
      "    radians(x, /)\n",
      "        Convert angle x from degrees to radians.\n",
      "    \n",
      "    remainder(x, y, /)\n",
      "        Difference between x and the closest integer multiple of y.\n",
      "        \n",
      "        Return x - n*y where n*y is the closest integer multiple of y.\n",
      "        In the case where x is exactly halfway between two multiples of\n",
      "        y, the nearest even value of n is used. The result is always exact.\n",
      "    \n",
      "    sin(x, /)\n",
      "        Return the sine of x (measured in radians).\n",
      "    \n",
      "    sinh(x, /)\n",
      "        Return the hyperbolic sine of x.\n",
      "    \n",
      "    sqrt(x, /)\n",
      "        Return the square root of x.\n",
      "    \n",
      "    tan(x, /)\n",
      "        Return the tangent of x (measured in radians).\n",
      "    \n",
      "    tanh(x, /)\n",
      "        Return the hyperbolic tangent of x.\n",
      "    \n",
      "    trunc(x, /)\n",
      "        Truncates the Real x to the nearest Integral toward 0.\n",
      "        \n",
      "        Uses the __trunc__ magic method.\n",
      "\n",
      "DATA\n",
      "    e = 2.718281828459045\n",
      "    inf = inf\n",
      "    nan = nan\n",
      "    pi = 3.141592653589793\n",
      "    tau = 6.283185307179586\n",
      "\n",
      "FILE\n",
      "    (built-in)\n",
      "\n",
      "\n"
     ]
    }
   ],
   "source": [
    "help(math)"
   ]
  },
  {
   "cell_type": "code",
   "execution_count": 70,
   "id": "2c7cecda-c14f-4446-9da0-a4467922b76f",
   "metadata": {},
   "outputs": [
    {
     "data": {
      "text/plain": [
       "1.4142135623730951"
      ]
     },
     "execution_count": 70,
     "metadata": {},
     "output_type": "execute_result"
    }
   ],
   "source": [
    "math.pow(2, 0.5)"
   ]
  },
  {
   "cell_type": "code",
   "execution_count": 71,
   "id": "ca1b0ee9-8732-4e4d-b5cf-e534a4e7effc",
   "metadata": {},
   "outputs": [
    {
     "data": {
      "text/plain": [
       "1.4142135623730951"
      ]
     },
     "execution_count": 71,
     "metadata": {},
     "output_type": "execute_result"
    }
   ],
   "source": [
    "math.sqrt(2)"
   ]
  },
  {
   "cell_type": "code",
   "execution_count": 72,
   "id": "098b46ba-9dec-446b-81ce-2a820a7d8cb8",
   "metadata": {},
   "outputs": [
    {
     "ename": "NameError",
     "evalue": "name 'random' is not defined",
     "output_type": "error",
     "traceback": [
      "\u001b[1;31m---------------------------------------------------------------------------\u001b[0m",
      "\u001b[1;31mNameError\u001b[0m                                 Traceback (most recent call last)",
      "\u001b[1;32m<ipython-input-72-b272b36fabcc>\u001b[0m in \u001b[0;36m<module>\u001b[1;34m\u001b[0m\n\u001b[1;32m----> 1\u001b[1;33m \u001b[0mhelp\u001b[0m\u001b[1;33m(\u001b[0m\u001b[0mrandom\u001b[0m\u001b[1;33m)\u001b[0m\u001b[1;33m\u001b[0m\u001b[1;33m\u001b[0m\u001b[0m\n\u001b[0m",
      "\u001b[1;31mNameError\u001b[0m: name 'random' is not defined"
     ]
    }
   ],
   "source": [
    "help(random)"
   ]
  },
  {
   "cell_type": "code",
   "execution_count": 74,
   "id": "a0e914f5-3051-4244-928c-46a3a9338468",
   "metadata": {},
   "outputs": [],
   "source": [
    "import math\n",
    "import random\n",
    "bases=\"ACTTGCTTGAC\""
   ]
  },
  {
   "cell_type": "code",
   "execution_count": 97,
   "id": "de266eb9-2598-40f2-89c1-4511a641ae11",
   "metadata": {},
   "outputs": [
    {
     "name": "stdout",
     "output_type": "stream",
     "text": [
      "random base  G base index 8\n"
     ]
    }
   ],
   "source": [
    "import math\n",
    "import random\n",
    "bases=\"ACTTGCTTGAC\"\n",
    "n_bases = len(bases)\n",
    "random_position=random.randrange(n_bases)\n",
    "\n",
    "print(\"random base \", bases[random_position], \"base index\", random_position)\n"
   ]
  },
  {
   "cell_type": "code",
   "execution_count": null,
   "id": "91bb49f0-67e7-4d9d-a0d0-db510660965e",
   "metadata": {},
   "outputs": [],
   "source": []
  },
  {
   "cell_type": "code",
   "execution_count": null,
   "id": "3164c7ef-0106-4d70-a757-a6379708955d",
   "metadata": {},
   "outputs": [],
   "source": [
    "random_base = random.randrange(n_bases)\n",
    "print(random_base)\n",
    "\n",
    "print(\"random base \", bases[random_base], \"base index\", n_bases )"
   ]
  },
  {
   "cell_type": "code",
   "execution_count": 115,
   "id": "8f88e45b-74e0-417e-9b66-8cb237c8a57e",
   "metadata": {},
   "outputs": [
    {
     "data": {
      "text/html": [
       "<div>\n",
       "<style scoped>\n",
       "    .dataframe tbody tr th:only-of-type {\n",
       "        vertical-align: middle;\n",
       "    }\n",
       "\n",
       "    .dataframe tbody tr th {\n",
       "        vertical-align: top;\n",
       "    }\n",
       "\n",
       "    .dataframe thead th {\n",
       "        text-align: right;\n",
       "    }\n",
       "</style>\n",
       "<table border=\"1\" class=\"dataframe\">\n",
       "  <thead>\n",
       "    <tr style=\"text-align: right;\">\n",
       "      <th></th>\n",
       "      <th>DisProt entry ID</th>\n",
       "      <th>UniProt ACC</th>\n",
       "      <th>Start</th>\n",
       "      <th>End</th>\n",
       "      <th>Reference</th>\n",
       "      <th>Length</th>\n",
       "    </tr>\n",
       "  </thead>\n",
       "  <tbody>\n",
       "    <tr>\n",
       "      <th>0</th>\n",
       "      <td>DP00613</td>\n",
       "      <td>Q22472</td>\n",
       "      <td>1</td>\n",
       "      <td>378</td>\n",
       "      <td>pmid:19899809</td>\n",
       "      <td>378</td>\n",
       "    </tr>\n",
       "    <tr>\n",
       "      <th>1</th>\n",
       "      <td>DP00868</td>\n",
       "      <td>Q9NHC3</td>\n",
       "      <td>102</td>\n",
       "      <td>117</td>\n",
       "      <td>pmid:21616056</td>\n",
       "      <td>279</td>\n",
       "    </tr>\n",
       "    <tr>\n",
       "      <th>2</th>\n",
       "      <td>DP01090</td>\n",
       "      <td>G4SLH0</td>\n",
       "      <td>3546</td>\n",
       "      <td>3795</td>\n",
       "      <td>pmid:20346955</td>\n",
       "      <td>18562</td>\n",
       "    </tr>\n",
       "    <tr>\n",
       "      <th>3</th>\n",
       "      <td>DP01113</td>\n",
       "      <td>D0PV95</td>\n",
       "      <td>1</td>\n",
       "      <td>168</td>\n",
       "      <td>pmid:26015579</td>\n",
       "      <td>708</td>\n",
       "    </tr>\n",
       "    <tr>\n",
       "      <th>4</th>\n",
       "      <td>DP01313</td>\n",
       "      <td>Q9N4U5</td>\n",
       "      <td>163</td>\n",
       "      <td>223</td>\n",
       "      <td>pmid:27150041</td>\n",
       "      <td>547</td>\n",
       "    </tr>\n",
       "    <tr>\n",
       "      <th>5</th>\n",
       "      <td>DP01407</td>\n",
       "      <td>O61667</td>\n",
       "      <td>93</td>\n",
       "      <td>106</td>\n",
       "      <td>pmid:15383288</td>\n",
       "      <td>106</td>\n",
       "    </tr>\n",
       "    <tr>\n",
       "      <th>6</th>\n",
       "      <td>DP01436</td>\n",
       "      <td>P54936</td>\n",
       "      <td>423</td>\n",
       "      <td>487</td>\n",
       "      <td>pmid:12110687</td>\n",
       "      <td>961</td>\n",
       "    </tr>\n",
       "    <tr>\n",
       "      <th>7</th>\n",
       "      <td>DP01437</td>\n",
       "      <td>P90976</td>\n",
       "      <td>115</td>\n",
       "      <td>180</td>\n",
       "      <td>pmid:12110687</td>\n",
       "      <td>297</td>\n",
       "    </tr>\n",
       "    <tr>\n",
       "      <th>8</th>\n",
       "      <td>DP01558</td>\n",
       "      <td>Q9XTY3</td>\n",
       "      <td>17</td>\n",
       "      <td>211</td>\n",
       "      <td>pmid:22947085</td>\n",
       "      <td>211</td>\n",
       "    </tr>\n",
       "    <tr>\n",
       "      <th>9</th>\n",
       "      <td>DP01973</td>\n",
       "      <td>Q09514</td>\n",
       "      <td>1</td>\n",
       "      <td>18</td>\n",
       "      <td>pmid:26621324</td>\n",
       "      <td>266</td>\n",
       "    </tr>\n",
       "    <tr>\n",
       "      <th>10</th>\n",
       "      <td>DP02025</td>\n",
       "      <td>P30429</td>\n",
       "      <td>1</td>\n",
       "      <td>105</td>\n",
       "      <td>pmid:16208361</td>\n",
       "      <td>571</td>\n",
       "    </tr>\n",
       "    <tr>\n",
       "      <th>11</th>\n",
       "      <td>DP02216</td>\n",
       "      <td>Q9U3S5</td>\n",
       "      <td>1</td>\n",
       "      <td>100</td>\n",
       "      <td>pmid:30036386</td>\n",
       "      <td>1050</td>\n",
       "    </tr>\n",
       "    <tr>\n",
       "      <th>12</th>\n",
       "      <td>DP02313</td>\n",
       "      <td>Q8IG33</td>\n",
       "      <td>18</td>\n",
       "      <td>88</td>\n",
       "      <td>pmid:21397184</td>\n",
       "      <td>186</td>\n",
       "    </tr>\n",
       "  </tbody>\n",
       "</table>\n",
       "</div>"
      ],
      "text/plain": [
       "   DisProt entry ID UniProt ACC  Start   End      Reference  Length\n",
       "0           DP00613      Q22472      1   378  pmid:19899809     378\n",
       "1           DP00868      Q9NHC3    102   117  pmid:21616056     279\n",
       "2           DP01090      G4SLH0   3546  3795  pmid:20346955   18562\n",
       "3           DP01113      D0PV95      1   168  pmid:26015579     708\n",
       "4           DP01313      Q9N4U5    163   223  pmid:27150041     547\n",
       "5           DP01407      O61667     93   106  pmid:15383288     106\n",
       "6           DP01436      P54936    423   487  pmid:12110687     961\n",
       "7           DP01437      P90976    115   180  pmid:12110687     297\n",
       "8           DP01558      Q9XTY3     17   211  pmid:22947085     211\n",
       "9           DP01973      Q09514      1    18  pmid:26621324     266\n",
       "10          DP02025      P30429      1   105  pmid:16208361     571\n",
       "11          DP02216      Q9U3S5      1   100  pmid:30036386    1050\n",
       "12          DP02313      Q8IG33     18    88  pmid:21397184     186"
      ]
     },
     "execution_count": 115,
     "metadata": {},
     "output_type": "execute_result"
    }
   ],
   "source": [
    "import pandas as pd\n",
    "data = pd.read_csv(\"DisProt_data_Caenorhabditis-elegans.csv\")\n",
    "data                 "
   ]
  },
  {
   "cell_type": "code",
   "execution_count": 116,
   "id": "97116738-05ab-4d54-b4c2-0a717806bf11",
   "metadata": {},
   "outputs": [
    {
     "data": {
      "text/html": [
       "<div>\n",
       "<style scoped>\n",
       "    .dataframe tbody tr th:only-of-type {\n",
       "        vertical-align: middle;\n",
       "    }\n",
       "\n",
       "    .dataframe tbody tr th {\n",
       "        vertical-align: top;\n",
       "    }\n",
       "\n",
       "    .dataframe thead th {\n",
       "        text-align: right;\n",
       "    }\n",
       "</style>\n",
       "<table border=\"1\" class=\"dataframe\">\n",
       "  <thead>\n",
       "    <tr style=\"text-align: right;\">\n",
       "      <th></th>\n",
       "      <th>Start</th>\n",
       "      <th>End</th>\n",
       "      <th>Length</th>\n",
       "    </tr>\n",
       "  </thead>\n",
       "  <tbody>\n",
       "    <tr>\n",
       "      <th>count</th>\n",
       "      <td>13.000000</td>\n",
       "      <td>13.000000</td>\n",
       "      <td>13.000000</td>\n",
       "    </tr>\n",
       "    <tr>\n",
       "      <th>mean</th>\n",
       "      <td>344.769231</td>\n",
       "      <td>459.692308</td>\n",
       "      <td>1855.538462</td>\n",
       "    </tr>\n",
       "    <tr>\n",
       "      <th>std</th>\n",
       "      <td>968.988059</td>\n",
       "      <td>1010.109267</td>\n",
       "      <td>5028.345679</td>\n",
       "    </tr>\n",
       "    <tr>\n",
       "      <th>min</th>\n",
       "      <td>1.000000</td>\n",
       "      <td>18.000000</td>\n",
       "      <td>106.000000</td>\n",
       "    </tr>\n",
       "    <tr>\n",
       "      <th>25%</th>\n",
       "      <td>1.000000</td>\n",
       "      <td>105.000000</td>\n",
       "      <td>266.000000</td>\n",
       "    </tr>\n",
       "    <tr>\n",
       "      <th>50%</th>\n",
       "      <td>18.000000</td>\n",
       "      <td>168.000000</td>\n",
       "      <td>378.000000</td>\n",
       "    </tr>\n",
       "    <tr>\n",
       "      <th>75%</th>\n",
       "      <td>115.000000</td>\n",
       "      <td>223.000000</td>\n",
       "      <td>708.000000</td>\n",
       "    </tr>\n",
       "    <tr>\n",
       "      <th>max</th>\n",
       "      <td>3546.000000</td>\n",
       "      <td>3795.000000</td>\n",
       "      <td>18562.000000</td>\n",
       "    </tr>\n",
       "  </tbody>\n",
       "</table>\n",
       "</div>"
      ],
      "text/plain": [
       "             Start          End        Length\n",
       "count    13.000000    13.000000     13.000000\n",
       "mean    344.769231   459.692308   1855.538462\n",
       "std     968.988059  1010.109267   5028.345679\n",
       "min       1.000000    18.000000    106.000000\n",
       "25%       1.000000   105.000000    266.000000\n",
       "50%      18.000000   168.000000    378.000000\n",
       "75%     115.000000   223.000000    708.000000\n",
       "max    3546.000000  3795.000000  18562.000000"
      ]
     },
     "execution_count": 116,
     "metadata": {},
     "output_type": "execute_result"
    }
   ],
   "source": [
    "data.describe()"
   ]
  },
  {
   "cell_type": "code",
   "execution_count": 121,
   "id": "16be37fa-ff2a-4e82-b553-4ae438ac30ea",
   "metadata": {},
   "outputs": [
    {
     "data": {
      "text/html": [
       "<div>\n",
       "<style scoped>\n",
       "    .dataframe tbody tr th:only-of-type {\n",
       "        vertical-align: middle;\n",
       "    }\n",
       "\n",
       "    .dataframe tbody tr th {\n",
       "        vertical-align: top;\n",
       "    }\n",
       "\n",
       "    .dataframe thead th {\n",
       "        text-align: right;\n",
       "    }\n",
       "</style>\n",
       "<table border=\"1\" class=\"dataframe\">\n",
       "  <thead>\n",
       "    <tr style=\"text-align: right;\">\n",
       "      <th></th>\n",
       "      <th>DisProt entry ID</th>\n",
       "      <th>UniProt ACC</th>\n",
       "      <th>Start</th>\n",
       "      <th>End</th>\n",
       "      <th>Reference</th>\n",
       "      <th>Length</th>\n",
       "    </tr>\n",
       "  </thead>\n",
       "  <tbody>\n",
       "    <tr>\n",
       "      <th>0</th>\n",
       "      <td>DP00342</td>\n",
       "      <td>P09883</td>\n",
       "      <td>1</td>\n",
       "      <td>83</td>\n",
       "      <td>pmid:12054823</td>\n",
       "      <td>582</td>\n",
       "    </tr>\n",
       "    <tr>\n",
       "      <th>1</th>\n",
       "      <td>DP00389</td>\n",
       "      <td>P09983</td>\n",
       "      <td>962</td>\n",
       "      <td>1023</td>\n",
       "      <td>pmid:7703231</td>\n",
       "      <td>1023</td>\n",
       "    </tr>\n",
       "    <tr>\n",
       "      <th>2</th>\n",
       "      <td>DP00461</td>\n",
       "      <td>P08083</td>\n",
       "      <td>67</td>\n",
       "      <td>90</td>\n",
       "      <td>pmid:9687368</td>\n",
       "      <td>387</td>\n",
       "    </tr>\n",
       "    <tr>\n",
       "      <th>3</th>\n",
       "      <td>DP00575</td>\n",
       "      <td>P77072</td>\n",
       "      <td>1</td>\n",
       "      <td>20</td>\n",
       "      <td>pmid:15222745</td>\n",
       "      <td>212</td>\n",
       "    </tr>\n",
       "    <tr>\n",
       "      <th>4</th>\n",
       "      <td>DP00656</td>\n",
       "      <td>P07674</td>\n",
       "      <td>1</td>\n",
       "      <td>64</td>\n",
       "      <td>pmid:20200158</td>\n",
       "      <td>358</td>\n",
       "    </tr>\n",
       "    <tr>\n",
       "      <th>5</th>\n",
       "      <td>DP00833</td>\n",
       "      <td>P22995</td>\n",
       "      <td>58</td>\n",
       "      <td>83</td>\n",
       "      <td>pmid:11743881</td>\n",
       "      <td>83</td>\n",
       "    </tr>\n",
       "    <tr>\n",
       "      <th>6</th>\n",
       "      <td>DP01201</td>\n",
       "      <td>Q47184</td>\n",
       "      <td>1</td>\n",
       "      <td>30</td>\n",
       "      <td>pmid:15943811</td>\n",
       "      <td>192</td>\n",
       "    </tr>\n",
       "  </tbody>\n",
       "</table>\n",
       "</div>"
      ],
      "text/plain": [
       "  DisProt entry ID UniProt ACC  Start   End      Reference  Length\n",
       "0          DP00342      P09883      1    83  pmid:12054823     582\n",
       "1          DP00389      P09983    962  1023   pmid:7703231    1023\n",
       "2          DP00461      P08083     67    90   pmid:9687368     387\n",
       "3          DP00575      P77072      1    20  pmid:15222745     212\n",
       "4          DP00656      P07674      1    64  pmid:20200158     358\n",
       "5          DP00833      P22995     58    83  pmid:11743881      83\n",
       "6          DP01201      Q47184      1    30  pmid:15943811     192"
      ]
     },
     "execution_count": 121,
     "metadata": {},
     "output_type": "execute_result"
    }
   ],
   "source": [
    "import pandas as pd\n",
    "data = pd.read_csv(\"DisProt_data_Escherichia-coli.csv\")\n",
    "data"
   ]
  },
  {
   "cell_type": "code",
   "execution_count": 124,
   "id": "f93461e2-ba82-4be7-bf3d-5f0c0c45eac4",
   "metadata": {},
   "outputs": [
    {
     "data": {
      "text/html": [
       "<div>\n",
       "<style scoped>\n",
       "    .dataframe tbody tr th:only-of-type {\n",
       "        vertical-align: middle;\n",
       "    }\n",
       "\n",
       "    .dataframe tbody tr th {\n",
       "        vertical-align: top;\n",
       "    }\n",
       "\n",
       "    .dataframe thead th {\n",
       "        text-align: right;\n",
       "    }\n",
       "</style>\n",
       "<table border=\"1\" class=\"dataframe\">\n",
       "  <thead>\n",
       "    <tr style=\"text-align: right;\">\n",
       "      <th></th>\n",
       "      <th>DisProt entry ID</th>\n",
       "      <th>Start</th>\n",
       "      <th>End</th>\n",
       "      <th>Reference</th>\n",
       "      <th>Length</th>\n",
       "    </tr>\n",
       "    <tr>\n",
       "      <th>UniProt ACC</th>\n",
       "      <th></th>\n",
       "      <th></th>\n",
       "      <th></th>\n",
       "      <th></th>\n",
       "      <th></th>\n",
       "    </tr>\n",
       "  </thead>\n",
       "  <tbody>\n",
       "    <tr>\n",
       "      <th>P09883</th>\n",
       "      <td>DP00342</td>\n",
       "      <td>1</td>\n",
       "      <td>83</td>\n",
       "      <td>pmid:12054823</td>\n",
       "      <td>582</td>\n",
       "    </tr>\n",
       "    <tr>\n",
       "      <th>P09983</th>\n",
       "      <td>DP00389</td>\n",
       "      <td>962</td>\n",
       "      <td>1023</td>\n",
       "      <td>pmid:7703231</td>\n",
       "      <td>1023</td>\n",
       "    </tr>\n",
       "    <tr>\n",
       "      <th>P08083</th>\n",
       "      <td>DP00461</td>\n",
       "      <td>67</td>\n",
       "      <td>90</td>\n",
       "      <td>pmid:9687368</td>\n",
       "      <td>387</td>\n",
       "    </tr>\n",
       "    <tr>\n",
       "      <th>P77072</th>\n",
       "      <td>DP00575</td>\n",
       "      <td>1</td>\n",
       "      <td>20</td>\n",
       "      <td>pmid:15222745</td>\n",
       "      <td>212</td>\n",
       "    </tr>\n",
       "    <tr>\n",
       "      <th>P07674</th>\n",
       "      <td>DP00656</td>\n",
       "      <td>1</td>\n",
       "      <td>64</td>\n",
       "      <td>pmid:20200158</td>\n",
       "      <td>358</td>\n",
       "    </tr>\n",
       "    <tr>\n",
       "      <th>P22995</th>\n",
       "      <td>DP00833</td>\n",
       "      <td>58</td>\n",
       "      <td>83</td>\n",
       "      <td>pmid:11743881</td>\n",
       "      <td>83</td>\n",
       "    </tr>\n",
       "    <tr>\n",
       "      <th>Q47184</th>\n",
       "      <td>DP01201</td>\n",
       "      <td>1</td>\n",
       "      <td>30</td>\n",
       "      <td>pmid:15943811</td>\n",
       "      <td>192</td>\n",
       "    </tr>\n",
       "  </tbody>\n",
       "</table>\n",
       "</div>"
      ],
      "text/plain": [
       "            DisProt entry ID  Start   End      Reference  Length\n",
       "UniProt ACC                                                     \n",
       "P09883               DP00342      1    83  pmid:12054823     582\n",
       "P09983               DP00389    962  1023   pmid:7703231    1023\n",
       "P08083               DP00461     67    90   pmid:9687368     387\n",
       "P77072               DP00575      1    20  pmid:15222745     212\n",
       "P07674               DP00656      1    64  pmid:20200158     358\n",
       "P22995               DP00833     58    83  pmid:11743881      83\n",
       "Q47184               DP01201      1    30  pmid:15943811     192"
      ]
     },
     "execution_count": 124,
     "metadata": {},
     "output_type": "execute_result"
    }
   ],
   "source": [
    "coli = pd.read_csv(\"DisProt_data_Escherichia-coli.csv\", index_col=\"UniProt ACC\")\n",
    "coli"
   ]
  },
  {
   "cell_type": "code",
   "execution_count": 125,
   "id": "7ccc9c6a-5a5a-4019-9512-f7853376e7e0",
   "metadata": {},
   "outputs": [
    {
     "data": {
      "text/html": [
       "<div>\n",
       "<style scoped>\n",
       "    .dataframe tbody tr th:only-of-type {\n",
       "        vertical-align: middle;\n",
       "    }\n",
       "\n",
       "    .dataframe tbody tr th {\n",
       "        vertical-align: top;\n",
       "    }\n",
       "\n",
       "    .dataframe thead th {\n",
       "        text-align: right;\n",
       "    }\n",
       "</style>\n",
       "<table border=\"1\" class=\"dataframe\">\n",
       "  <thead>\n",
       "    <tr style=\"text-align: right;\">\n",
       "      <th></th>\n",
       "      <th>DisProt entry ID</th>\n",
       "      <th>Start</th>\n",
       "      <th>End</th>\n",
       "      <th>Reference</th>\n",
       "      <th>Length</th>\n",
       "    </tr>\n",
       "    <tr>\n",
       "      <th>UniProt ACC</th>\n",
       "      <th></th>\n",
       "      <th></th>\n",
       "      <th></th>\n",
       "      <th></th>\n",
       "      <th></th>\n",
       "    </tr>\n",
       "  </thead>\n",
       "  <tbody>\n",
       "    <tr>\n",
       "      <th>P09883</th>\n",
       "      <td>DP00342</td>\n",
       "      <td>1</td>\n",
       "      <td>83</td>\n",
       "      <td>pmid:12054823</td>\n",
       "      <td>582</td>\n",
       "    </tr>\n",
       "    <tr>\n",
       "      <th>P09983</th>\n",
       "      <td>DP00389</td>\n",
       "      <td>962</td>\n",
       "      <td>1023</td>\n",
       "      <td>pmid:7703231</td>\n",
       "      <td>1023</td>\n",
       "    </tr>\n",
       "    <tr>\n",
       "      <th>P08083</th>\n",
       "      <td>DP00461</td>\n",
       "      <td>67</td>\n",
       "      <td>90</td>\n",
       "      <td>pmid:9687368</td>\n",
       "      <td>387</td>\n",
       "    </tr>\n",
       "  </tbody>\n",
       "</table>\n",
       "</div>"
      ],
      "text/plain": [
       "            DisProt entry ID  Start   End      Reference  Length\n",
       "UniProt ACC                                                     \n",
       "P09883               DP00342      1    83  pmid:12054823     582\n",
       "P09983               DP00389    962  1023   pmid:7703231    1023\n",
       "P08083               DP00461     67    90   pmid:9687368     387"
      ]
     },
     "execution_count": 125,
     "metadata": {},
     "output_type": "execute_result"
    }
   ],
   "source": [
    "coli.head(n=3)"
   ]
  },
  {
   "cell_type": "code",
   "execution_count": 126,
   "id": "c4aea274-9d12-489c-8f25-d21cf5c3336f",
   "metadata": {},
   "outputs": [],
   "source": [
    "coli_flipped = coli.T "
   ]
  },
  {
   "cell_type": "markdown",
   "id": "0998751c-d292-4f5c-8040-1235fcfa1030",
   "metadata": {},
   "source": [
    "to flip rows and coluims "
   ]
  },
  {
   "cell_type": "code",
   "execution_count": 127,
   "id": "8825758a-54f3-42e4-b2eb-333e3aeae911",
   "metadata": {},
   "outputs": [
    {
     "data": {
      "text/html": [
       "<div>\n",
       "<style scoped>\n",
       "    .dataframe tbody tr th:only-of-type {\n",
       "        vertical-align: middle;\n",
       "    }\n",
       "\n",
       "    .dataframe tbody tr th {\n",
       "        vertical-align: top;\n",
       "    }\n",
       "\n",
       "    .dataframe thead th {\n",
       "        text-align: right;\n",
       "    }\n",
       "</style>\n",
       "<table border=\"1\" class=\"dataframe\">\n",
       "  <thead>\n",
       "    <tr style=\"text-align: right;\">\n",
       "      <th>UniProt ACC</th>\n",
       "      <th>P09883</th>\n",
       "      <th>P09983</th>\n",
       "      <th>P08083</th>\n",
       "      <th>P77072</th>\n",
       "      <th>P07674</th>\n",
       "      <th>P22995</th>\n",
       "      <th>Q47184</th>\n",
       "    </tr>\n",
       "  </thead>\n",
       "  <tbody>\n",
       "    <tr>\n",
       "      <th>End</th>\n",
       "      <td>83</td>\n",
       "      <td>1023</td>\n",
       "      <td>90</td>\n",
       "      <td>20</td>\n",
       "      <td>64</td>\n",
       "      <td>83</td>\n",
       "      <td>30</td>\n",
       "    </tr>\n",
       "    <tr>\n",
       "      <th>Reference</th>\n",
       "      <td>pmid:12054823</td>\n",
       "      <td>pmid:7703231</td>\n",
       "      <td>pmid:9687368</td>\n",
       "      <td>pmid:15222745</td>\n",
       "      <td>pmid:20200158</td>\n",
       "      <td>pmid:11743881</td>\n",
       "      <td>pmid:15943811</td>\n",
       "    </tr>\n",
       "    <tr>\n",
       "      <th>Length</th>\n",
       "      <td>582</td>\n",
       "      <td>1023</td>\n",
       "      <td>387</td>\n",
       "      <td>212</td>\n",
       "      <td>358</td>\n",
       "      <td>83</td>\n",
       "      <td>192</td>\n",
       "    </tr>\n",
       "  </tbody>\n",
       "</table>\n",
       "</div>"
      ],
      "text/plain": [
       "UniProt ACC         P09883        P09983        P08083         P77072  \\\n",
       "End                     83          1023            90             20   \n",
       "Reference    pmid:12054823  pmid:7703231  pmid:9687368  pmid:15222745   \n",
       "Length                 582          1023           387            212   \n",
       "\n",
       "UniProt ACC         P07674         P22995         Q47184  \n",
       "End                     64             83             30  \n",
       "Reference    pmid:20200158  pmid:11743881  pmid:15943811  \n",
       "Length                 358             83            192  "
      ]
     },
     "execution_count": 127,
     "metadata": {},
     "output_type": "execute_result"
    }
   ],
   "source": [
    "coli_flipped.tail(n=3)"
   ]
  },
  {
   "cell_type": "markdown",
   "id": "b63aa745-965e-4845-8685-5422e4e7c27d",
   "metadata": {},
   "source": [
    "12.11.2021. part 2"
   ]
  },
  {
   "cell_type": "code",
   "execution_count": 6,
   "id": "644384c3-0386-414a-b4fb-04eec5b2cc76",
   "metadata": {},
   "outputs": [
    {
     "data": {
      "text/html": [
       "<div>\n",
       "<style scoped>\n",
       "    .dataframe tbody tr th:only-of-type {\n",
       "        vertical-align: middle;\n",
       "    }\n",
       "\n",
       "    .dataframe tbody tr th {\n",
       "        vertical-align: top;\n",
       "    }\n",
       "\n",
       "    .dataframe thead th {\n",
       "        text-align: right;\n",
       "    }\n",
       "</style>\n",
       "<table border=\"1\" class=\"dataframe\">\n",
       "  <thead>\n",
       "    <tr style=\"text-align: right;\">\n",
       "      <th></th>\n",
       "      <th>DisProt entry ID</th>\n",
       "      <th>Start</th>\n",
       "      <th>End</th>\n",
       "      <th>Reference</th>\n",
       "      <th>Length</th>\n",
       "    </tr>\n",
       "    <tr>\n",
       "      <th>UniProt ACC</th>\n",
       "      <th></th>\n",
       "      <th></th>\n",
       "      <th></th>\n",
       "      <th></th>\n",
       "      <th></th>\n",
       "    </tr>\n",
       "  </thead>\n",
       "  <tbody>\n",
       "    <tr>\n",
       "      <th>Q22472</th>\n",
       "      <td>DP00613</td>\n",
       "      <td>1</td>\n",
       "      <td>378</td>\n",
       "      <td>pmid:19899809</td>\n",
       "      <td>378</td>\n",
       "    </tr>\n",
       "    <tr>\n",
       "      <th>Q9NHC3</th>\n",
       "      <td>DP00868</td>\n",
       "      <td>102</td>\n",
       "      <td>117</td>\n",
       "      <td>pmid:21616056</td>\n",
       "      <td>279</td>\n",
       "    </tr>\n",
       "    <tr>\n",
       "      <th>G4SLH0</th>\n",
       "      <td>DP01090</td>\n",
       "      <td>3546</td>\n",
       "      <td>3795</td>\n",
       "      <td>pmid:20346955</td>\n",
       "      <td>18562</td>\n",
       "    </tr>\n",
       "    <tr>\n",
       "      <th>D0PV95</th>\n",
       "      <td>DP01113</td>\n",
       "      <td>1</td>\n",
       "      <td>168</td>\n",
       "      <td>pmid:26015579</td>\n",
       "      <td>708</td>\n",
       "    </tr>\n",
       "    <tr>\n",
       "      <th>Q9N4U5</th>\n",
       "      <td>DP01313</td>\n",
       "      <td>163</td>\n",
       "      <td>223</td>\n",
       "      <td>pmid:27150041</td>\n",
       "      <td>547</td>\n",
       "    </tr>\n",
       "    <tr>\n",
       "      <th>O61667</th>\n",
       "      <td>DP01407</td>\n",
       "      <td>93</td>\n",
       "      <td>106</td>\n",
       "      <td>pmid:15383288</td>\n",
       "      <td>106</td>\n",
       "    </tr>\n",
       "    <tr>\n",
       "      <th>P54936</th>\n",
       "      <td>DP01436</td>\n",
       "      <td>423</td>\n",
       "      <td>487</td>\n",
       "      <td>pmid:12110687</td>\n",
       "      <td>961</td>\n",
       "    </tr>\n",
       "    <tr>\n",
       "      <th>P90976</th>\n",
       "      <td>DP01437</td>\n",
       "      <td>115</td>\n",
       "      <td>180</td>\n",
       "      <td>pmid:12110687</td>\n",
       "      <td>297</td>\n",
       "    </tr>\n",
       "    <tr>\n",
       "      <th>Q9XTY3</th>\n",
       "      <td>DP01558</td>\n",
       "      <td>17</td>\n",
       "      <td>211</td>\n",
       "      <td>pmid:22947085</td>\n",
       "      <td>211</td>\n",
       "    </tr>\n",
       "    <tr>\n",
       "      <th>Q09514</th>\n",
       "      <td>DP01973</td>\n",
       "      <td>1</td>\n",
       "      <td>18</td>\n",
       "      <td>pmid:26621324</td>\n",
       "      <td>266</td>\n",
       "    </tr>\n",
       "    <tr>\n",
       "      <th>P30429</th>\n",
       "      <td>DP02025</td>\n",
       "      <td>1</td>\n",
       "      <td>105</td>\n",
       "      <td>pmid:16208361</td>\n",
       "      <td>571</td>\n",
       "    </tr>\n",
       "    <tr>\n",
       "      <th>Q9U3S5</th>\n",
       "      <td>DP02216</td>\n",
       "      <td>1</td>\n",
       "      <td>100</td>\n",
       "      <td>pmid:30036386</td>\n",
       "      <td>1050</td>\n",
       "    </tr>\n",
       "    <tr>\n",
       "      <th>Q8IG33</th>\n",
       "      <td>DP02313</td>\n",
       "      <td>18</td>\n",
       "      <td>88</td>\n",
       "      <td>pmid:21397184</td>\n",
       "      <td>186</td>\n",
       "    </tr>\n",
       "  </tbody>\n",
       "</table>\n",
       "</div>"
      ],
      "text/plain": [
       "            DisProt entry ID  Start   End      Reference  Length\n",
       "UniProt ACC                                                     \n",
       "Q22472               DP00613      1   378  pmid:19899809     378\n",
       "Q9NHC3               DP00868    102   117  pmid:21616056     279\n",
       "G4SLH0               DP01090   3546  3795  pmid:20346955   18562\n",
       "D0PV95               DP01113      1   168  pmid:26015579     708\n",
       "Q9N4U5               DP01313    163   223  pmid:27150041     547\n",
       "O61667               DP01407     93   106  pmid:15383288     106\n",
       "P54936               DP01436    423   487  pmid:12110687     961\n",
       "P90976               DP01437    115   180  pmid:12110687     297\n",
       "Q9XTY3               DP01558     17   211  pmid:22947085     211\n",
       "Q09514               DP01973      1    18  pmid:26621324     266\n",
       "P30429               DP02025      1   105  pmid:16208361     571\n",
       "Q9U3S5               DP02216      1   100  pmid:30036386    1050\n",
       "Q8IG33               DP02313     18    88  pmid:21397184     186"
      ]
     },
     "execution_count": 6,
     "metadata": {},
     "output_type": "execute_result"
    }
   ],
   "source": [
    "import pandas as pd\n",
    "data = pd.read_csv(\"DisProt_data_Caenorhabditis-elegans.csv\", index_col=\"UniProt ACC\")\n",
    "data"
   ]
  },
  {
   "cell_type": "code",
   "execution_count": 3,
   "id": "3a685f6b-a31a-41ad-a89e-b12cccfd14a8",
   "metadata": {},
   "outputs": [
    {
     "data": {
      "text/plain": [
       "'DP00613'"
      ]
     },
     "execution_count": 3,
     "metadata": {},
     "output_type": "execute_result"
    }
   ],
   "source": [
    "data.iloc[0,0]"
   ]
  },
  {
   "cell_type": "code",
   "execution_count": 7,
   "id": "d7924022-16c1-464e-9fd8-ba1237ca9769",
   "metadata": {},
   "outputs": [
    {
     "data": {
      "text/plain": [
       "1"
      ]
     },
     "execution_count": 7,
     "metadata": {},
     "output_type": "execute_result"
    }
   ],
   "source": [
    "data.loc[\"D0PV95\", \"Start\"]"
   ]
  },
  {
   "cell_type": "code",
   "execution_count": 8,
   "id": "f4e08609-ef25-44e0-8303-34278efc5ef6",
   "metadata": {},
   "outputs": [
    {
     "data": {
      "text/plain": [
       "DisProt entry ID          DP01113\n",
       "Start                           1\n",
       "End                           168\n",
       "Reference           pmid:26015579\n",
       "Length                        708\n",
       "Name: D0PV95, dtype: object"
      ]
     },
     "execution_count": 8,
     "metadata": {},
     "output_type": "execute_result"
    }
   ],
   "source": [
    "data.loc[\"D0PV95\", :]"
   ]
  },
  {
   "cell_type": "markdown",
   "id": "cca398a0-6bcc-4783-934f-0e8d4989a279",
   "metadata": {},
   "source": [
    "it showe every info for this row"
   ]
  },
  {
   "cell_type": "code",
   "execution_count": 11,
   "id": "e5596e81-5958-4dd0-ba69-31472b09b963",
   "metadata": {},
   "outputs": [
    {
     "data": {
      "text/plain": [
       "UniProt ACC\n",
       "Q22472      378\n",
       "Q9NHC3      279\n",
       "G4SLH0    18562\n",
       "D0PV95      708\n",
       "Q9N4U5      547\n",
       "O61667      106\n",
       "P54936      961\n",
       "P90976      297\n",
       "Q9XTY3      211\n",
       "Q09514      266\n",
       "P30429      571\n",
       "Q9U3S5     1050\n",
       "Q8IG33      186\n",
       "Name: Length, dtype: int64"
      ]
     },
     "execution_count": 11,
     "metadata": {},
     "output_type": "execute_result"
    }
   ],
   "source": [
    "data.loc[:, \"Length\"]"
   ]
  },
  {
   "cell_type": "code",
   "execution_count": 14,
   "id": "e9151051-da80-4121-b84e-68d5c3f5f527",
   "metadata": {},
   "outputs": [
    {
     "data": {
      "text/html": [
       "<div>\n",
       "<style scoped>\n",
       "    .dataframe tbody tr th:only-of-type {\n",
       "        vertical-align: middle;\n",
       "    }\n",
       "\n",
       "    .dataframe tbody tr th {\n",
       "        vertical-align: top;\n",
       "    }\n",
       "\n",
       "    .dataframe thead th {\n",
       "        text-align: right;\n",
       "    }\n",
       "</style>\n",
       "<table border=\"1\" class=\"dataframe\">\n",
       "  <thead>\n",
       "    <tr style=\"text-align: right;\">\n",
       "      <th></th>\n",
       "      <th>Start</th>\n",
       "      <th>End</th>\n",
       "    </tr>\n",
       "    <tr>\n",
       "      <th>UniProt ACC</th>\n",
       "      <th></th>\n",
       "      <th></th>\n",
       "    </tr>\n",
       "  </thead>\n",
       "  <tbody>\n",
       "    <tr>\n",
       "      <th>P30429</th>\n",
       "      <td>1</td>\n",
       "      <td>105</td>\n",
       "    </tr>\n",
       "    <tr>\n",
       "      <th>Q9U3S5</th>\n",
       "      <td>1</td>\n",
       "      <td>100</td>\n",
       "    </tr>\n",
       "    <tr>\n",
       "      <th>Q8IG33</th>\n",
       "      <td>18</td>\n",
       "      <td>88</td>\n",
       "    </tr>\n",
       "  </tbody>\n",
       "</table>\n",
       "</div>"
      ],
      "text/plain": [
       "             Start  End\n",
       "UniProt ACC            \n",
       "P30429           1  105\n",
       "Q9U3S5           1  100\n",
       "Q8IG33          18   88"
      ]
     },
     "execution_count": 14,
     "metadata": {},
     "output_type": "execute_result"
    }
   ],
   "source": [
    "data.iloc[-3:, 1:3]"
   ]
  },
  {
   "cell_type": "markdown",
   "id": "7f97d810-ab51-430c-a5fc-ed03e580b692",
   "metadata": {},
   "source": [
    "it this case when you put 1:3, 3 is ignored"
   ]
  },
  {
   "cell_type": "code",
   "execution_count": 15,
   "id": "5e3eee79-5e23-4ef3-bc47-cdb267c63f9c",
   "metadata": {},
   "outputs": [
    {
     "data": {
      "text/html": [
       "<div>\n",
       "<style scoped>\n",
       "    .dataframe tbody tr th:only-of-type {\n",
       "        vertical-align: middle;\n",
       "    }\n",
       "\n",
       "    .dataframe tbody tr th {\n",
       "        vertical-align: top;\n",
       "    }\n",
       "\n",
       "    .dataframe thead th {\n",
       "        text-align: right;\n",
       "    }\n",
       "</style>\n",
       "<table border=\"1\" class=\"dataframe\">\n",
       "  <thead>\n",
       "    <tr style=\"text-align: right;\">\n",
       "      <th></th>\n",
       "      <th>Start</th>\n",
       "      <th>End</th>\n",
       "    </tr>\n",
       "    <tr>\n",
       "      <th>UniProt ACC</th>\n",
       "      <th></th>\n",
       "      <th></th>\n",
       "    </tr>\n",
       "  </thead>\n",
       "  <tbody>\n",
       "    <tr>\n",
       "      <th>P30429</th>\n",
       "      <td>1</td>\n",
       "      <td>105</td>\n",
       "    </tr>\n",
       "    <tr>\n",
       "      <th>Q9U3S5</th>\n",
       "      <td>1</td>\n",
       "      <td>100</td>\n",
       "    </tr>\n",
       "    <tr>\n",
       "      <th>Q8IG33</th>\n",
       "      <td>18</td>\n",
       "      <td>88</td>\n",
       "    </tr>\n",
       "  </tbody>\n",
       "</table>\n",
       "</div>"
      ],
      "text/plain": [
       "             Start  End\n",
       "UniProt ACC            \n",
       "P30429           1  105\n",
       "Q9U3S5           1  100\n",
       "Q8IG33          18   88"
      ]
     },
     "execution_count": 15,
     "metadata": {},
     "output_type": "execute_result"
    }
   ],
   "source": [
    "data.loc[\"P30429\":\"Q8IG33\", \"Start\":\"End\"]"
   ]
  },
  {
   "cell_type": "markdown",
   "id": "385b3164-8404-4555-bb84-371d3d3b5449",
   "metadata": {},
   "source": [
    "for loc it doesn't ignore last name it includes it, but iloc does (1:3)"
   ]
  },
  {
   "cell_type": "code",
   "execution_count": 16,
   "id": "0230c8b0-04fc-4a8d-9cf1-47cc02de4fea",
   "metadata": {},
   "outputs": [],
   "source": [
    "selection = data.loc [\"P30429\":\"Q8IG33\", \"Start\":\"End\"]"
   ]
  },
  {
   "cell_type": "code",
   "execution_count": 17,
   "id": "7935ee42-9922-448e-81e1-75ae04b87b3b",
   "metadata": {},
   "outputs": [
    {
     "data": {
      "text/plain": [
       "Start     18\n",
       "End      105\n",
       "dtype: int64"
      ]
     },
     "execution_count": 17,
     "metadata": {},
     "output_type": "execute_result"
    }
   ],
   "source": [
    "selection.max()"
   ]
  },
  {
   "cell_type": "markdown",
   "id": "71065f0a-c819-4040-9fd0-6d1f5c0fba8d",
   "metadata": {},
   "source": [
    "it shows maximumb"
   ]
  },
  {
   "cell_type": "code",
   "execution_count": 20,
   "id": "d3eb2e0d-c99c-44cd-89f7-3786aa1c4476",
   "metadata": {},
   "outputs": [
    {
     "data": {
      "text/plain": [
       "UniProt ACC\n",
       "P30429     True\n",
       "Q9U3S5     True\n",
       "Q8IG33    False\n",
       "Name: Length, dtype: bool"
      ]
     },
     "execution_count": 20,
     "metadata": {},
     "output_type": "execute_result"
    }
   ],
   "source": [
    "selection_lenght =data.loc[\"P30429\":\"Q8IG33\", \"Length\"]\n",
    "selection_lenght > 200"
   ]
  },
  {
   "cell_type": "code",
   "execution_count": 34,
   "id": "bb6db90c-b8a8-4884-84f0-0a5a03ed9423",
   "metadata": {},
   "outputs": [
    {
     "data": {
      "text/plain": [
       "UniProt ACC\n",
       "Q22472    False\n",
       "Q9NHC3    False\n",
       "G4SLH0     True\n",
       "D0PV95    False\n",
       "Q9N4U5    False\n",
       "O61667    False\n",
       "P54936    False\n",
       "P90976    False\n",
       "Q9XTY3    False\n",
       "Q09514    False\n",
       "P30429    False\n",
       "Q9U3S5    False\n",
       "Q8IG33    False\n",
       "Name: Length, dtype: bool"
      ]
     },
     "execution_count": 34,
     "metadata": {},
     "output_type": "execute_result"
    }
   ],
   "source": [
    "selection_lenght_1 = data.loc[:, \"Length\"]\n",
    "selection_lenght_1\n",
    "\n",
    "mean= selection_lenght_1.mean()\n",
    "selection_lenght_1 > mean"
   ]
  },
  {
   "cell_type": "code",
   "execution_count": 42,
   "id": "de5986da-e7e6-49ef-ae8c-82bcfa97fcf7",
   "metadata": {},
   "outputs": [
    {
     "data": {
      "text/plain": [
       "UniProt ACC\n",
       "Q22472    False\n",
       "Q9NHC3    False\n",
       "G4SLH0     True\n",
       "D0PV95    False\n",
       "Q9N4U5    False\n",
       "O61667    False\n",
       "P54936    False\n",
       "P90976    False\n",
       "Q9XTY3    False\n",
       "Q09514    False\n",
       "P30429    False\n",
       "Q9U3S5    False\n",
       "Q8IG33    False\n",
       "Name: Length, dtype: bool"
      ]
     },
     "execution_count": 42,
     "metadata": {},
     "output_type": "execute_result"
    }
   ],
   "source": [
    "mask_higher= data.loc[:,\"Length\"] > data.loc[:,\"Length\"].mean()\n",
    "mask_higher "
   ]
  },
  {
   "cell_type": "code",
   "execution_count": 45,
   "id": "f5cfb034-36e7-45d9-80e3-ffac0920298d",
   "metadata": {},
   "outputs": [
    {
     "ename": "NameError",
     "evalue": "name 'new' is not defined",
     "output_type": "error",
     "traceback": [
      "\u001b[1;31m---------------------------------------------------------------------------\u001b[0m",
      "\u001b[1;31mNameError\u001b[0m                                 Traceback (most recent call last)",
      "\u001b[1;32m<ipython-input-45-359134ae19d4>\u001b[0m in \u001b[0;36m<module>\u001b[1;34m\u001b[0m\n\u001b[1;32m----> 1\u001b[1;33m \u001b[0mnew\u001b[0m\u001b[1;33m.\u001b[0m\u001b[0mdata\u001b[0m\u001b[1;33m=\u001b[0m\u001b[0mdata\u001b[0m\u001b[1;33m.\u001b[0m\u001b[0mdrop\u001b[0m\u001b[1;33m(\u001b[0m\u001b[1;34m\"G4SLH0\"\u001b[0m\u001b[1;33m)\u001b[0m\u001b[1;33m\u001b[0m\u001b[1;33m\u001b[0m\u001b[0m\n\u001b[0m\u001b[0;32m      2\u001b[0m \u001b[0mnew\u001b[0m\u001b[1;33m.\u001b[0m\u001b[0mdata\u001b[0m\u001b[1;33m\u001b[0m\u001b[1;33m\u001b[0m\u001b[0m\n",
      "\u001b[1;31mNameError\u001b[0m: name 'new' is not defined"
     ]
    }
   ],
   "source": [
    "new.data=data.drop(\"G4SLH0\")\n",
    "new.data"
   ]
  },
  {
   "cell_type": "markdown",
   "id": "57c489a2-44ad-4f12-bf6f-26b12ac5b186",
   "metadata": {},
   "source": [
    "1)"
   ]
  },
  {
   "cell_type": "code",
   "execution_count": 41,
   "id": "ca98013c-554c-4494-89f4-88c6f06fef3d",
   "metadata": {},
   "outputs": [
    {
     "data": {
      "text/plain": [
       "UniProt ACC\n",
       "Q22472      378\n",
       "Q9NHC3      279\n",
       "G4SLH0    18562\n",
       "D0PV95      708\n",
       "Q9N4U5      547\n",
       "O61667      106\n",
       "P54936      961\n",
       "P90976      297\n",
       "Q9XTY3      211\n",
       "Q09514      266\n",
       "P30429      571\n",
       "Q9U3S5     1050\n",
       "Q8IG33      186\n",
       "Name: Length, dtype: int64"
      ]
     },
     "execution_count": 41,
     "metadata": {},
     "output_type": "execute_result"
    }
   ],
   "source": [
    "data[\"Length\"]"
   ]
  },
  {
   "cell_type": "code",
   "execution_count": 47,
   "id": "8ff6d688-84ef-43ca-aa1c-8ddd2e3081dd",
   "metadata": {},
   "outputs": [
    {
     "data": {
      "text/plain": [
       "UniProt ACC\n",
       "Q22472       1\n",
       "Q9NHC3     102\n",
       "G4SLH0    3546\n",
       "D0PV95       1\n",
       "Q9N4U5     163\n",
       "O61667      93\n",
       "P54936     423\n",
       "P90976     115\n",
       "Q9XTY3      17\n",
       "Q09514       1\n",
       "P30429       1\n",
       "Q9U3S5       1\n",
       "Q8IG33      18\n",
       "Name: Start, dtype: int64"
      ]
     },
     "execution_count": 47,
     "metadata": {},
     "output_type": "execute_result"
    }
   ],
   "source": [
    "selection = data.loc [:, \"Start\"]\n",
    "selection"
   ]
  },
  {
   "cell_type": "markdown",
   "id": "1f3593f5-2090-4832-8a33-fd3972cdadd2",
   "metadata": {},
   "source": [
    "2)"
   ]
  },
  {
   "cell_type": "code",
   "execution_count": 54,
   "id": "d434be2a-b278-49ce-afe4-ef5921b19ced",
   "metadata": {},
   "outputs": [
    {
     "data": {
      "text/html": [
       "<div>\n",
       "<style scoped>\n",
       "    .dataframe tbody tr th:only-of-type {\n",
       "        vertical-align: middle;\n",
       "    }\n",
       "\n",
       "    .dataframe tbody tr th {\n",
       "        vertical-align: top;\n",
       "    }\n",
       "\n",
       "    .dataframe thead th {\n",
       "        text-align: right;\n",
       "    }\n",
       "</style>\n",
       "<table border=\"1\" class=\"dataframe\">\n",
       "  <thead>\n",
       "    <tr style=\"text-align: right;\">\n",
       "      <th></th>\n",
       "      <th>DisProt entry ID</th>\n",
       "      <th>Start</th>\n",
       "      <th>End</th>\n",
       "      <th>Reference</th>\n",
       "      <th>Length</th>\n",
       "    </tr>\n",
       "    <tr>\n",
       "      <th>UniProt ACC</th>\n",
       "      <th></th>\n",
       "      <th></th>\n",
       "      <th></th>\n",
       "      <th></th>\n",
       "      <th></th>\n",
       "    </tr>\n",
       "  </thead>\n",
       "  <tbody>\n",
       "    <tr>\n",
       "      <th>Q22472</th>\n",
       "      <td>DP00613</td>\n",
       "      <td>1</td>\n",
       "      <td>378</td>\n",
       "      <td>pmid:19899809</td>\n",
       "      <td>378</td>\n",
       "    </tr>\n",
       "  </tbody>\n",
       "</table>\n",
       "</div>"
      ],
      "text/plain": [
       "            DisProt entry ID  Start  End      Reference  Length\n",
       "UniProt ACC                                                    \n",
       "Q22472               DP00613      1  378  pmid:19899809     378"
      ]
     },
     "execution_count": 54,
     "metadata": {},
     "output_type": "execute_result"
    }
   ],
   "source": [
    "selection_2=data.iloc[:1,:] \n",
    "selection_2"
   ]
  },
  {
   "cell_type": "markdown",
   "id": "a63717aa-c77c-4e33-8194-5c9d5384199f",
   "metadata": {},
   "source": [
    "3) "
   ]
  },
  {
   "cell_type": "code",
   "execution_count": 63,
   "id": "e0bb7003-021a-4cb7-b4be-0b3f45adf45a",
   "metadata": {},
   "outputs": [],
   "source": [
    "selection_3=data.loc[:, \"Length\"] \n",
    "selection_3 >150 \n",
    "selection_3"
   ]
  },
  {
   "cell_type": "markdown",
   "id": "5b779707-a7cc-43f5-a977-73b55bb6e063",
   "metadata": {},
   "source": [
    "solution"
   ]
  },
  {
   "cell_type": "code",
   "execution_count": 65,
   "id": "28d6386c-895a-4e24-9a8d-f82a3104195c",
   "metadata": {},
   "outputs": [
    {
     "data": {
      "text/html": [
       "<div>\n",
       "<style scoped>\n",
       "    .dataframe tbody tr th:only-of-type {\n",
       "        vertical-align: middle;\n",
       "    }\n",
       "\n",
       "    .dataframe tbody tr th {\n",
       "        vertical-align: top;\n",
       "    }\n",
       "\n",
       "    .dataframe thead th {\n",
       "        text-align: right;\n",
       "    }\n",
       "</style>\n",
       "<table border=\"1\" class=\"dataframe\">\n",
       "  <thead>\n",
       "    <tr style=\"text-align: right;\">\n",
       "      <th></th>\n",
       "      <th>UniProt ACC</th>\n",
       "      <th>Start</th>\n",
       "      <th>End</th>\n",
       "      <th>Reference</th>\n",
       "      <th>Length</th>\n",
       "    </tr>\n",
       "    <tr>\n",
       "      <th>DisProt entry ID</th>\n",
       "      <th></th>\n",
       "      <th></th>\n",
       "      <th></th>\n",
       "      <th></th>\n",
       "      <th></th>\n",
       "    </tr>\n",
       "  </thead>\n",
       "  <tbody>\n",
       "    <tr>\n",
       "      <th>DP00613</th>\n",
       "      <td>Q22472</td>\n",
       "      <td>1</td>\n",
       "      <td>378</td>\n",
       "      <td>pmid:19899809</td>\n",
       "      <td>378</td>\n",
       "    </tr>\n",
       "    <tr>\n",
       "      <th>DP00868</th>\n",
       "      <td>Q9NHC3</td>\n",
       "      <td>102</td>\n",
       "      <td>117</td>\n",
       "      <td>pmid:21616056</td>\n",
       "      <td>279</td>\n",
       "    </tr>\n",
       "    <tr>\n",
       "      <th>DP01090</th>\n",
       "      <td>G4SLH0</td>\n",
       "      <td>3546</td>\n",
       "      <td>3795</td>\n",
       "      <td>pmid:20346955</td>\n",
       "      <td>18562</td>\n",
       "    </tr>\n",
       "    <tr>\n",
       "      <th>DP01113</th>\n",
       "      <td>D0PV95</td>\n",
       "      <td>1</td>\n",
       "      <td>168</td>\n",
       "      <td>pmid:26015579</td>\n",
       "      <td>708</td>\n",
       "    </tr>\n",
       "    <tr>\n",
       "      <th>DP01313</th>\n",
       "      <td>Q9N4U5</td>\n",
       "      <td>163</td>\n",
       "      <td>223</td>\n",
       "      <td>pmid:27150041</td>\n",
       "      <td>547</td>\n",
       "    </tr>\n",
       "    <tr>\n",
       "      <th>DP01407</th>\n",
       "      <td>O61667</td>\n",
       "      <td>93</td>\n",
       "      <td>106</td>\n",
       "      <td>pmid:15383288</td>\n",
       "      <td>106</td>\n",
       "    </tr>\n",
       "    <tr>\n",
       "      <th>DP01436</th>\n",
       "      <td>P54936</td>\n",
       "      <td>423</td>\n",
       "      <td>487</td>\n",
       "      <td>pmid:12110687</td>\n",
       "      <td>961</td>\n",
       "    </tr>\n",
       "    <tr>\n",
       "      <th>DP01437</th>\n",
       "      <td>P90976</td>\n",
       "      <td>115</td>\n",
       "      <td>180</td>\n",
       "      <td>pmid:12110687</td>\n",
       "      <td>297</td>\n",
       "    </tr>\n",
       "    <tr>\n",
       "      <th>DP01558</th>\n",
       "      <td>Q9XTY3</td>\n",
       "      <td>17</td>\n",
       "      <td>211</td>\n",
       "      <td>pmid:22947085</td>\n",
       "      <td>211</td>\n",
       "    </tr>\n",
       "    <tr>\n",
       "      <th>DP01973</th>\n",
       "      <td>Q09514</td>\n",
       "      <td>1</td>\n",
       "      <td>18</td>\n",
       "      <td>pmid:26621324</td>\n",
       "      <td>266</td>\n",
       "    </tr>\n",
       "    <tr>\n",
       "      <th>DP02025</th>\n",
       "      <td>P30429</td>\n",
       "      <td>1</td>\n",
       "      <td>105</td>\n",
       "      <td>pmid:16208361</td>\n",
       "      <td>571</td>\n",
       "    </tr>\n",
       "    <tr>\n",
       "      <th>DP02216</th>\n",
       "      <td>Q9U3S5</td>\n",
       "      <td>1</td>\n",
       "      <td>100</td>\n",
       "      <td>pmid:30036386</td>\n",
       "      <td>1050</td>\n",
       "    </tr>\n",
       "    <tr>\n",
       "      <th>DP02313</th>\n",
       "      <td>Q8IG33</td>\n",
       "      <td>18</td>\n",
       "      <td>88</td>\n",
       "      <td>pmid:21397184</td>\n",
       "      <td>186</td>\n",
       "    </tr>\n",
       "  </tbody>\n",
       "</table>\n",
       "</div>"
      ],
      "text/plain": [
       "                 UniProt ACC  Start   End      Reference  Length\n",
       "DisProt entry ID                                                \n",
       "DP00613               Q22472      1   378  pmid:19899809     378\n",
       "DP00868               Q9NHC3    102   117  pmid:21616056     279\n",
       "DP01090               G4SLH0   3546  3795  pmid:20346955   18562\n",
       "DP01113               D0PV95      1   168  pmid:26015579     708\n",
       "DP01313               Q9N4U5    163   223  pmid:27150041     547\n",
       "DP01407               O61667     93   106  pmid:15383288     106\n",
       "DP01436               P54936    423   487  pmid:12110687     961\n",
       "DP01437               P90976    115   180  pmid:12110687     297\n",
       "DP01558               Q9XTY3     17   211  pmid:22947085     211\n",
       "DP01973               Q09514      1    18  pmid:26621324     266\n",
       "DP02025               P30429      1   105  pmid:16208361     571\n",
       "DP02216               Q9U3S5      1   100  pmid:30036386    1050\n",
       "DP02313               Q8IG33     18    88  pmid:21397184     186"
      ]
     },
     "execution_count": 65,
     "metadata": {},
     "output_type": "execute_result"
    }
   ],
   "source": [
    "import pandas as pd\n",
    "data = pd.read_csv(\"DisProt_data_Caenorhabditis-elegans.csv\", index_col=\"DisProt entry ID\")\n",
    "data"
   ]
  },
  {
   "cell_type": "code",
   "execution_count": 67,
   "id": "5388694d-fb6a-438f-9a09-5f3e0e6532fd",
   "metadata": {},
   "outputs": [
    {
     "data": {
      "text/plain": [
       "DisProt entry ID\n",
       "DP00613       1\n",
       "DP00868     102\n",
       "DP01090    3546\n",
       "DP01113       1\n",
       "DP01313     163\n",
       "DP01407      93\n",
       "DP01436     423\n",
       "DP01437     115\n",
       "DP01558      17\n",
       "DP01973       1\n",
       "DP02025       1\n",
       "DP02216       1\n",
       "DP02313      18\n",
       "Name: Start, dtype: int64"
      ]
     },
     "execution_count": 67,
     "metadata": {},
     "output_type": "execute_result"
    }
   ],
   "source": [
    "start_entries= data[\"Start\"]\n",
    "start_entries"
   ]
  },
  {
   "cell_type": "code",
   "execution_count": null,
   "id": "60d2db81-4b69-4bf6-93a6-d63dec5b3927",
   "metadata": {},
   "outputs": [],
   "source": [
    "data.loc[\"DP00613\", :]"
   ]
  },
  {
   "cell_type": "code",
   "execution_count": 68,
   "id": "ee26b822-c47d-4f5c-81ca-d55c66056a3f",
   "metadata": {},
   "outputs": [
    {
     "data": {
      "text/plain": [
       "UniProt ACC           Q22472\n",
       "Start                      1\n",
       "End                      378\n",
       "Reference      pmid:19899809\n",
       "Length                   378\n",
       "Name: DP00613, dtype: object"
      ]
     },
     "execution_count": 68,
     "metadata": {},
     "output_type": "execute_result"
    }
   ],
   "source": [
    "data.loc[\"DP00613\", :]"
   ]
  },
  {
   "cell_type": "code",
   "execution_count": 70,
   "id": "05a377d2-d6d4-49c0-825b-30362670af63",
   "metadata": {},
   "outputs": [
    {
     "data": {
      "text/plain": [
       "DisProt entry ID\n",
       "DP00613     True\n",
       "DP00868     True\n",
       "DP01090     True\n",
       "DP01113     True\n",
       "DP01313     True\n",
       "DP01407    False\n",
       "DP01436     True\n",
       "DP01437     True\n",
       "DP01558     True\n",
       "DP01973     True\n",
       "DP02025     True\n",
       "DP02216     True\n",
       "DP02313     True\n",
       "Name: Length, dtype: bool"
      ]
     },
     "execution_count": 70,
     "metadata": {},
     "output_type": "execute_result"
    }
   ],
   "source": [
    "mask_higher = data.loc[:, \"Length\"] > 150\n",
    "mask_higher "
   ]
  },
  {
   "cell_type": "code",
   "execution_count": 73,
   "id": "b870cecf-a1a3-4cd7-bc70-b8613752bedd",
   "metadata": {},
   "outputs": [
    {
     "data": {
      "text/plain": [
       "DisProt entry ID\n",
       "DP00613    Q22472\n",
       "DP00868    Q9NHC3\n",
       "DP01090    G4SLH0\n",
       "DP01113    D0PV95\n",
       "DP01313    Q9N4U5\n",
       "DP01436    P54936\n",
       "DP01437    P90976\n",
       "DP01558    Q9XTY3\n",
       "DP01973    Q09514\n",
       "DP02025    P30429\n",
       "DP02216    Q9U3S5\n",
       "DP02313    Q8IG33\n",
       "Name: UniProt ACC, dtype: object"
      ]
     },
     "execution_count": 73,
     "metadata": {},
     "output_type": "execute_result"
    }
   ],
   "source": [
    "data_selection = data.loc[data.loc[:, \"Length\"]> 150]\n",
    "data_selection[\"UniProt ACC\"]"
   ]
  },
  {
   "cell_type": "code",
   "execution_count": 74,
   "id": "499b7114-beb8-4aa4-97bc-e5e9a0fdd7f3",
   "metadata": {},
   "outputs": [
    {
     "data": {
      "text/plain": [
       "DisProt entry ID\n",
       "DP00613    Q22472\n",
       "DP00868    Q9NHC3\n",
       "DP01090    G4SLH0\n",
       "DP01113    D0PV95\n",
       "DP01313    Q9N4U5\n",
       "DP01436    P54936\n",
       "DP01437    P90976\n",
       "DP01558    Q9XTY3\n",
       "DP01973    Q09514\n",
       "DP02025    P30429\n",
       "DP02216    Q9U3S5\n",
       "DP02313    Q8IG33\n",
       "Name: UniProt ACC, dtype: object"
      ]
     },
     "execution_count": 74,
     "metadata": {},
     "output_type": "execute_result"
    }
   ],
   "source": [
    "data_selection = data[data[\"Length\"]> 150]\n",
    "data_selection[\"UniProt ACC\"]"
   ]
  },
  {
   "cell_type": "code",
   "execution_count": 75,
   "id": "f0fcde2e-0206-493b-85ec-37d37f5e211a",
   "metadata": {},
   "outputs": [
    {
     "data": {
      "text/plain": [
       "0.27"
      ]
     },
     "execution_count": 75,
     "metadata": {},
     "output_type": "execute_result"
    }
   ],
   "source": [
    "pressure = [0.27, 0.25, 0.278]\n",
    "pressure[0]"
   ]
  },
  {
   "cell_type": "code",
   "execution_count": 77,
   "id": "fe13b47d-141c-4ed7-a5b3-fab16b0d08d6",
   "metadata": {},
   "outputs": [
    {
     "data": {
      "text/plain": [
       "3"
      ]
     },
     "execution_count": 77,
     "metadata": {},
     "output_type": "execute_result"
    }
   ],
   "source": [
    "len(pressure)"
   ]
  },
  {
   "cell_type": "code",
   "execution_count": 78,
   "id": "edb81df3-28e8-4602-831a-2034ddfdffa2",
   "metadata": {},
   "outputs": [
    {
     "data": {
      "text/plain": [
       "[0.25, 0.278]"
      ]
     },
     "execution_count": 78,
     "metadata": {},
     "output_type": "execute_result"
    }
   ],
   "source": [
    "pressure[1:3]"
   ]
  },
  {
   "cell_type": "code",
   "execution_count": 80,
   "id": "914d2d63-1517-4e20-b6f6-776064fab1c3",
   "metadata": {},
   "outputs": [
    {
     "data": {
      "text/plain": [
       "[0.27, 0.278]"
      ]
     },
     "execution_count": 80,
     "metadata": {},
     "output_type": "execute_result"
    }
   ],
   "source": [
    "del pressure[1]\n",
    "pressure"
   ]
  },
  {
   "cell_type": "code",
   "execution_count": 87,
   "id": "41971222-c19e-48b9-8063-75c5e9fd3efc",
   "metadata": {},
   "outputs": [
    {
     "ename": "NameError",
     "evalue": "name 'thing' is not defined",
     "output_type": "error",
     "traceback": [
      "\u001b[1;31m---------------------------------------------------------------------------\u001b[0m",
      "\u001b[1;31mNameError\u001b[0m                                 Traceback (most recent call last)",
      "\u001b[1;32m<ipython-input-87-84fc7f8c187a>\u001b[0m in \u001b[0;36m<module>\u001b[1;34m\u001b[0m\n\u001b[0;32m      2\u001b[0m \u001b[1;32mfor\u001b[0m \u001b[0mnumber\u001b[0m \u001b[1;32min\u001b[0m \u001b[0mpressure\u001b[0m\u001b[1;33m:\u001b[0m\u001b[1;33m\u001b[0m\u001b[1;33m\u001b[0m\u001b[0m\n\u001b[0;32m      3\u001b[0m     \u001b[1;31m# thing = velue in pressure at each step\u001b[0m\u001b[1;33m\u001b[0m\u001b[1;33m\u001b[0m\u001b[1;33m\u001b[0m\u001b[0m\n\u001b[1;32m----> 4\u001b[1;33m         \u001b[0mprint\u001b[0m\u001b[1;33m(\u001b[0m\u001b[0mthing\u001b[0m\u001b[1;33m)\u001b[0m\u001b[1;33m\u001b[0m\u001b[1;33m\u001b[0m\u001b[0m\n\u001b[0m",
      "\u001b[1;31mNameError\u001b[0m: name 'thing' is not defined"
     ]
    }
   ],
   "source": [
    "pressure = [1, 2, 3, 4]\n",
    "for number in pressure:\n",
    "    # thing = velue in pressure at each step\n",
    "        print(thing)"
   ]
  },
  {
   "cell_type": "code",
   "execution_count": 88,
   "id": "8c4f4e18-cc3a-48d3-bff0-fb33c7b0faff",
   "metadata": {},
   "outputs": [
    {
     "ename": "NameError",
     "evalue": "name 'b' is not defined",
     "output_type": "error",
     "traceback": [
      "\u001b[1;31m---------------------------------------------------------------------------\u001b[0m",
      "\u001b[1;31mNameError\u001b[0m                                 Traceback (most recent call last)",
      "\u001b[1;32m<ipython-input-88-bb12eb67f44f>\u001b[0m in \u001b[0;36m<module>\u001b[1;34m\u001b[0m\n\u001b[1;32m----> 1\u001b[1;33m \u001b[0mfirstname\u001b[0m \u001b[1;33m=\u001b[0m\u001b[0mb\u001b[0m\u001b[1;33m\u001b[0m\u001b[1;33m\u001b[0m\u001b[0m\n\u001b[0m",
      "\u001b[1;31mNameError\u001b[0m: name 'b' is not defined"
     ]
    }
   ],
   "source": [
    "firstname =b\n"
   ]
  },
  {
   "cell_type": "code",
   "execution_count": 91,
   "id": "c949a807-0ece-47aa-8c2a-6cbd4dd62945",
   "metadata": {},
   "outputs": [
    {
     "name": "stdout",
     "output_type": "stream",
     "text": [
      "2 4 8\n",
      "3 9 27\n",
      "5 25 125\n"
     ]
    }
   ],
   "source": [
    "primers = [2, 3, 5]\n",
    "for p in primers:\n",
    "    squared = p**2\n",
    "    cubed = p**3\n",
    "    print(p,squared, cubed)"
   ]
  },
  {
   "cell_type": "code",
   "execution_count": 94,
   "id": "88063b22-2102-4681-9388-5987f4fa60e4",
   "metadata": {},
   "outputs": [
    {
     "name": "stdout",
     "output_type": "stream",
     "text": [
      "0\n",
      "1\n",
      "2\n"
     ]
    }
   ],
   "source": [
    "for n in range(0,3):\n",
    " print(n)"
   ]
  },
  {
   "cell_type": "code",
   "execution_count": 97,
   "id": "c1626dc1-a5e9-4265-af95-a3e4a76b8eb4",
   "metadata": {},
   "outputs": [
    {
     "name": "stdout",
     "output_type": "stream",
     "text": [
      "a\n",
      "b\n",
      "c\n",
      "d\n",
      "e\n",
      "f\n",
      "g\n",
      "h\n",
      "i\n",
      "j\n",
      "k\n",
      "l\n",
      "m\n",
      "n\n",
      "o\n",
      "p\n",
      "q\n",
      "r\n",
      "s\n",
      "t\n",
      "u\n",
      "v\n",
      "w\n",
      "x\n",
      "y\n",
      "z\n"
     ]
    }
   ],
   "source": [
    "import string\n",
    "for letter in string.ascii_lowercase:\n",
    "    print(letter)"
   ]
  },
  {
   "cell_type": "code",
   "execution_count": 111,
   "id": "878be0f5-e0be-4057-8760-73ce1365a1c9",
   "metadata": {},
   "outputs": [
    {
     "name": "stdout",
     "output_type": "stream",
     "text": [
      "total 1\n",
      "char t\n",
      "total 2\n",
      "char i\n",
      "total 3\n",
      "char n\n",
      "_____________\n",
      "3\n"
     ]
    }
   ],
   "source": [
    "total = 0\n",
    "for char in \"tin\":\n",
    "    total = total + 1\n",
    "    print(\"total\", total)\n",
    "    print(\"char\", char)\n",
    "print(\"_____________\")  \n",
    "print(total)"
   ]
  },
  {
   "cell_type": "code",
   "execution_count": 119,
   "id": "71b420da-d400-4faf-8023-6f8ed909e0b5",
   "metadata": {},
   "outputs": [
    {
     "data": {
      "text/plain": [
       "Text(0.5, 1.0, 'My very meaningful graph')"
      ]
     },
     "execution_count": 119,
     "metadata": {},
     "output_type": "execute_result"
    },
    {
     "data": {
      "image/png": "[encoded data removed]",
      "text/plain": [
       "<Figure size 432x288 with 1 Axes>"
      ]
     },
     "metadata": {
      "needs_background": "light"
     },
     "output_type": "display_data"
    }
   ],
   "source": [
    "import matplotlib.pyplot as plt\n",
    "res_position = [0, 1, 2, 3]\n",
    "dis_prediction = [0.32, 0.44, 0.8, 0.62]\n",
    "plt.plot(res_position, dis_prediction)\n",
    "plt.xlabel(\"Residue position\")\n",
    "plt.ylabel(\"Disordered position\")\n",
    "plt.title(\"My very meaningful graph\")"
   ]
  },
  {
   "cell_type": "code",
   "execution_count": 135,
   "id": "fc3b58c4-4dd0-4a74-9750-074d3e4f38a3",
   "metadata": {},
   "outputs": [
    {
     "data": {
      "text/plain": [
       "<AxesSubplot:xlabel='UniProt ACC'>"
      ]
     },
     "execution_count": 135,
     "metadata": {},
     "output_type": "execute_result"
    },
    {
     "data": {
      "image/png": "[encoded data removed]",
      "text/plain": [
       "<Figure size 432x288 with 1 Axes>"
      ]
     },
     "metadata": {
      "needs_background": "light"
     },
     "output_type": "display_data"
    }
   ],
   "source": [
    "data = pd.read_csv(\"DisProt_data_Caenorhabditis-elegans.csv\", index_col=\"UniProt ACC\")\n",
    "data[\"Length\"].plot()"
   ]
  },
  {
   "cell_type": "code",
   "execution_count": 136,
   "id": "9935b30d-35fb-4f02-bd3a-1deba57ce11f",
   "metadata": {},
   "outputs": [
    {
     "data": {
      "text/plain": [
       "<AxesSubplot:>"
      ]
     },
     "execution_count": 136,
     "metadata": {},
     "output_type": "execute_result"
    },
    {
     "data": {
      "image/png": "[encoded data removed]",
      "text/plain": [
       "<Figure size 432x288 with 1 Axes>"
      ]
     },
     "metadata": {
      "needs_background": "light"
     },
     "output_type": "display_data"
    }
   ],
   "source": [
    "data2 = pd.read_csv(\"DisProt_and_pred_IDcontent.csv\", index_col=[0])\n",
    "data2[\"DisProt\"].head(20).plot()"
   ]
  },
  {
   "cell_type": "code",
   "execution_count": 138,
   "id": "4bef3a3b-4b42-4ac0-9ca0-a68c02a0fdc8",
   "metadata": {
    "collapsed": true,
    "jupyter": {
     "outputs_hidden": true
    },
    "tags": []
   },
   "outputs": [
    {
     "data": {
      "text/plain": [
       "<AxesSubplot:>"
      ]
     },
     "execution_count": 138,
     "metadata": {},
     "output_type": "execute_result"
    },
    {
     "data": {
      "image/png": "[encoded data removed]",
      "text/plain": [
       "<Figure size 432x288 with 1 Axes>"
      ]
     },
     "metadata": {
      "needs_background": "light"
     },
     "output_type": "display_data"
    }
   ],
   "source": [
    "data2[\"DisProt\"].head(20).plot.bar()"
   ]
  },
  {
   "cell_type": "code",
   "execution_count": 141,
   "id": "f2416e1d-428e-4fab-943e-0bd8c3554b14",
   "metadata": {},
   "outputs": [
    {
     "data": {
      "text/plain": [
       "Text(0, 0.5, 'Predictor')"
      ]
     },
     "execution_count": 141,
     "metadata": {},
     "output_type": "execute_result"
    },
    {
     "data": {
      "image/png": "[encoded data removed]",
      "text/plain": [
       "<Figure size 432x288 with 1 Axes>"
      ]
     },
     "metadata": {
      "needs_background": "light"
     },
     "output_type": "display_data"
    }
   ],
   "source": [
    "plt.scatter(data2[\"DisProt\"], data2[\"Predictor\"], c= \"green\")\n",
    "plt.xlabel(\"DisProt\")\n",
    "plt.ylabel(\"Predictor\")"
   ]
  },
  {
   "cell_type": "code",
   "execution_count": 142,
   "id": "77de202c-c826-49c0-b0c8-ffcf3ff69f90",
   "metadata": {},
   "outputs": [
    {
     "data": {
      "text/plain": [
       "<AxesSubplot:>"
      ]
     },
     "execution_count": 142,
     "metadata": {},
     "output_type": "execute_result"
    },
    {
     "data": {
      "image/png": "[encoded data removed]",
      "text/plain": [
       "<Figure size 432x288 with 1 Axes>"
      ]
     },
     "metadata": {
      "needs_background": "light"
     },
     "output_type": "display_data"
    }
   ],
   "source": [
    "data2.boxplot()"
   ]
  },
  {
   "cell_type": "code",
   "execution_count": 143,
   "id": "037ecd35-a536-4d36-abf2-2ce1f87604a9",
   "metadata": {},
   "outputs": [
    {
     "data": {
      "text/html": [
       "<div>\n",
       "<style scoped>\n",
       "    .dataframe tbody tr th:only-of-type {\n",
       "        vertical-align: middle;\n",
       "    }\n",
       "\n",
       "    .dataframe tbody tr th {\n",
       "        vertical-align: top;\n",
       "    }\n",
       "\n",
       "    .dataframe thead th {\n",
       "        text-align: right;\n",
       "    }\n",
       "</style>\n",
       "<table border=\"1\" class=\"dataframe\">\n",
       "  <thead>\n",
       "    <tr style=\"text-align: right;\">\n",
       "      <th></th>\n",
       "      <th>DisProt</th>\n",
       "      <th>Predictor</th>\n",
       "    </tr>\n",
       "  </thead>\n",
       "  <tbody>\n",
       "    <tr>\n",
       "      <th>count</th>\n",
       "      <td>642.000000</td>\n",
       "      <td>642.000000</td>\n",
       "    </tr>\n",
       "    <tr>\n",
       "      <th>mean</th>\n",
       "      <td>0.258486</td>\n",
       "      <td>0.506048</td>\n",
       "    </tr>\n",
       "    <tr>\n",
       "      <th>std</th>\n",
       "      <td>0.273655</td>\n",
       "      <td>0.243792</td>\n",
       "    </tr>\n",
       "    <tr>\n",
       "      <th>min</th>\n",
       "      <td>0.008000</td>\n",
       "      <td>0.043000</td>\n",
       "    </tr>\n",
       "    <tr>\n",
       "      <th>25%</th>\n",
       "      <td>0.069250</td>\n",
       "      <td>0.308250</td>\n",
       "    </tr>\n",
       "    <tr>\n",
       "      <th>50%</th>\n",
       "      <td>0.162000</td>\n",
       "      <td>0.480500</td>\n",
       "    </tr>\n",
       "    <tr>\n",
       "      <th>75%</th>\n",
       "      <td>0.321250</td>\n",
       "      <td>0.679250</td>\n",
       "    </tr>\n",
       "    <tr>\n",
       "      <th>max</th>\n",
       "      <td>1.000000</td>\n",
       "      <td>1.000000</td>\n",
       "    </tr>\n",
       "  </tbody>\n",
       "</table>\n",
       "</div>"
      ],
      "text/plain": [
       "          DisProt   Predictor\n",
       "count  642.000000  642.000000\n",
       "mean     0.258486    0.506048\n",
       "std      0.273655    0.243792\n",
       "min      0.008000    0.043000\n",
       "25%      0.069250    0.308250\n",
       "50%      0.162000    0.480500\n",
       "75%      0.321250    0.679250\n",
       "max      1.000000    1.000000"
      ]
     },
     "execution_count": 143,
     "metadata": {},
     "output_type": "execute_result"
    }
   ],
   "source": [
    "data2.describe()\n"
   ]
  },
  {
   "cell_type": "code",
   "execution_count": 144,
   "id": "a24ba381-6e6a-4e2f-9311-e4ba92ef2169",
   "metadata": {},
   "outputs": [
    {
     "data": {
      "image/png": "[encoded data removed]",
      "text/plain": [
       "<Figure size 432x288 with 1 Axes>"
      ]
     },
     "metadata": {
      "needs_background": "light"
     },
     "output_type": "display_data"
    }
   ],
   "source": [
    "myplot= data2.boxplot()\n",
    "plt.savefig(\"My figure.png\")"
   ]
  },
  {
   "cell_type": "code",
   "execution_count": 150,
   "id": "5da77f5e-c0e7-45fb-985e-cb6541b069e0",
   "metadata": {},
   "outputs": [
    {
     "data": {
      "image/png": "[encoded data removed]",
      "text/plain": [
       "<Figure size 432x288 with 1 Axes>"
      ]
     },
     "metadata": {
      "needs_background": "light"
     },
     "output_type": "display_data"
    }
   ],
   "source": [
    "# first figure\n",
    "fig = data2.boxplot()\n",
    "fig.clear()\n",
    "# second figure\n",
    "plt.scatter(data2[\"DisProt\"], data2[\"Predictor\"], c=\"red\")\n",
    "#save to figure\n",
    "plt.savefig(\"My figure.png\")"
   ]
  }
 ],
 "metadata": {
  "kernelspec": {
   "display_name": "Python 3",
   "language": "python",
   "name": "python3"
  },
  "language_info": {
   "codemirror_mode": {
    "name": "ipython",
    "version": 3
   },
   "file_extension": ".py",
   "mimetype": "text/x-python",
   "name": "python",
   "nbconvert_exporter": "python",
   "pygments_lexer": "ipython3",
   "version": "3.8.8"
  }
 },
 "nbformat": 4,
 "nbformat_minor": 5
}
